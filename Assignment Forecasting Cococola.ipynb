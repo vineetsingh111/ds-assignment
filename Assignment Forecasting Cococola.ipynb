{
 "cells": [
  {
   "cell_type": "markdown",
   "id": "40bb16ec",
   "metadata": {},
   "source": [
    "# Question\n",
    "Forecast the Airlines Passengers data set. Prepare a document for each model explaining how many dummy variables you have created and RMSE value for each model. Finally which model you will use for Forecasting"
   ]
  },
  {
   "cell_type": "code",
   "execution_count": 1,
   "id": "2da6911a",
   "metadata": {},
   "outputs": [],
   "source": [
    "# Import libraries\n",
    "\n",
    "import pandas as pd\n",
    "import numpy as np\n",
    "import matplotlib.pyplot as plt\n",
    "import seaborn as sns"
   ]
  },
  {
   "cell_type": "code",
   "execution_count": 2,
   "id": "c79a3954",
   "metadata": {},
   "outputs": [
    {
     "data": {
      "text/html": [
       "<div>\n",
       "<style scoped>\n",
       "    .dataframe tbody tr th:only-of-type {\n",
       "        vertical-align: middle;\n",
       "    }\n",
       "\n",
       "    .dataframe tbody tr th {\n",
       "        vertical-align: top;\n",
       "    }\n",
       "\n",
       "    .dataframe thead th {\n",
       "        text-align: right;\n",
       "    }\n",
       "</style>\n",
       "<table border=\"1\" class=\"dataframe\">\n",
       "  <thead>\n",
       "    <tr style=\"text-align: right;\">\n",
       "      <th></th>\n",
       "      <th>Quarter</th>\n",
       "      <th>Sales</th>\n",
       "    </tr>\n",
       "  </thead>\n",
       "  <tbody>\n",
       "    <tr>\n",
       "      <th>0</th>\n",
       "      <td>Q1_86</td>\n",
       "      <td>1734.827000</td>\n",
       "    </tr>\n",
       "    <tr>\n",
       "      <th>1</th>\n",
       "      <td>Q2_86</td>\n",
       "      <td>2244.960999</td>\n",
       "    </tr>\n",
       "    <tr>\n",
       "      <th>2</th>\n",
       "      <td>Q3_86</td>\n",
       "      <td>2533.804993</td>\n",
       "    </tr>\n",
       "    <tr>\n",
       "      <th>3</th>\n",
       "      <td>Q4_86</td>\n",
       "      <td>2154.962997</td>\n",
       "    </tr>\n",
       "    <tr>\n",
       "      <th>4</th>\n",
       "      <td>Q1_87</td>\n",
       "      <td>1547.818996</td>\n",
       "    </tr>\n",
       "    <tr>\n",
       "      <th>5</th>\n",
       "      <td>Q2_87</td>\n",
       "      <td>2104.411995</td>\n",
       "    </tr>\n",
       "    <tr>\n",
       "      <th>6</th>\n",
       "      <td>Q3_87</td>\n",
       "      <td>2014.362999</td>\n",
       "    </tr>\n",
       "    <tr>\n",
       "      <th>7</th>\n",
       "      <td>Q4_87</td>\n",
       "      <td>1991.746998</td>\n",
       "    </tr>\n",
       "    <tr>\n",
       "      <th>8</th>\n",
       "      <td>Q1_88</td>\n",
       "      <td>1869.049999</td>\n",
       "    </tr>\n",
       "    <tr>\n",
       "      <th>9</th>\n",
       "      <td>Q2_88</td>\n",
       "      <td>2313.631996</td>\n",
       "    </tr>\n",
       "    <tr>\n",
       "      <th>10</th>\n",
       "      <td>Q3_88</td>\n",
       "      <td>2128.320000</td>\n",
       "    </tr>\n",
       "    <tr>\n",
       "      <th>11</th>\n",
       "      <td>Q4_88</td>\n",
       "      <td>2026.828999</td>\n",
       "    </tr>\n",
       "    <tr>\n",
       "      <th>12</th>\n",
       "      <td>Q1_89</td>\n",
       "      <td>1910.603996</td>\n",
       "    </tr>\n",
       "    <tr>\n",
       "      <th>13</th>\n",
       "      <td>Q2_89</td>\n",
       "      <td>2331.164993</td>\n",
       "    </tr>\n",
       "    <tr>\n",
       "      <th>14</th>\n",
       "      <td>Q3_89</td>\n",
       "      <td>2206.549995</td>\n",
       "    </tr>\n",
       "    <tr>\n",
       "      <th>15</th>\n",
       "      <td>Q4_89</td>\n",
       "      <td>2173.967995</td>\n",
       "    </tr>\n",
       "    <tr>\n",
       "      <th>16</th>\n",
       "      <td>Q1_90</td>\n",
       "      <td>2148.278000</td>\n",
       "    </tr>\n",
       "    <tr>\n",
       "      <th>17</th>\n",
       "      <td>Q2_90</td>\n",
       "      <td>2739.307999</td>\n",
       "    </tr>\n",
       "    <tr>\n",
       "      <th>18</th>\n",
       "      <td>Q3_90</td>\n",
       "      <td>2792.753998</td>\n",
       "    </tr>\n",
       "    <tr>\n",
       "      <th>19</th>\n",
       "      <td>Q4_90</td>\n",
       "      <td>2556.009995</td>\n",
       "    </tr>\n",
       "    <tr>\n",
       "      <th>20</th>\n",
       "      <td>Q1_91</td>\n",
       "      <td>2480.973999</td>\n",
       "    </tr>\n",
       "    <tr>\n",
       "      <th>21</th>\n",
       "      <td>Q2_91</td>\n",
       "      <td>3039.522995</td>\n",
       "    </tr>\n",
       "    <tr>\n",
       "      <th>22</th>\n",
       "      <td>Q3_91</td>\n",
       "      <td>3172.115997</td>\n",
       "    </tr>\n",
       "    <tr>\n",
       "      <th>23</th>\n",
       "      <td>Q4_91</td>\n",
       "      <td>2879.000999</td>\n",
       "    </tr>\n",
       "    <tr>\n",
       "      <th>24</th>\n",
       "      <td>Q1_92</td>\n",
       "      <td>2772.000000</td>\n",
       "    </tr>\n",
       "    <tr>\n",
       "      <th>25</th>\n",
       "      <td>Q2_92</td>\n",
       "      <td>3550.000000</td>\n",
       "    </tr>\n",
       "    <tr>\n",
       "      <th>26</th>\n",
       "      <td>Q3_92</td>\n",
       "      <td>3508.000000</td>\n",
       "    </tr>\n",
       "    <tr>\n",
       "      <th>27</th>\n",
       "      <td>Q4_92</td>\n",
       "      <td>3243.859993</td>\n",
       "    </tr>\n",
       "    <tr>\n",
       "      <th>28</th>\n",
       "      <td>Q1_93</td>\n",
       "      <td>3056.000000</td>\n",
       "    </tr>\n",
       "    <tr>\n",
       "      <th>29</th>\n",
       "      <td>Q2_93</td>\n",
       "      <td>3899.000000</td>\n",
       "    </tr>\n",
       "    <tr>\n",
       "      <th>30</th>\n",
       "      <td>Q3_93</td>\n",
       "      <td>3629.000000</td>\n",
       "    </tr>\n",
       "    <tr>\n",
       "      <th>31</th>\n",
       "      <td>Q4_93</td>\n",
       "      <td>3373.000000</td>\n",
       "    </tr>\n",
       "    <tr>\n",
       "      <th>32</th>\n",
       "      <td>Q1_94</td>\n",
       "      <td>3352.000000</td>\n",
       "    </tr>\n",
       "    <tr>\n",
       "      <th>33</th>\n",
       "      <td>Q2_94</td>\n",
       "      <td>4342.000000</td>\n",
       "    </tr>\n",
       "    <tr>\n",
       "      <th>34</th>\n",
       "      <td>Q3_94</td>\n",
       "      <td>4461.000000</td>\n",
       "    </tr>\n",
       "    <tr>\n",
       "      <th>35</th>\n",
       "      <td>Q4_94</td>\n",
       "      <td>4017.000000</td>\n",
       "    </tr>\n",
       "    <tr>\n",
       "      <th>36</th>\n",
       "      <td>Q1_95</td>\n",
       "      <td>3854.000000</td>\n",
       "    </tr>\n",
       "    <tr>\n",
       "      <th>37</th>\n",
       "      <td>Q2_95</td>\n",
       "      <td>4936.000000</td>\n",
       "    </tr>\n",
       "    <tr>\n",
       "      <th>38</th>\n",
       "      <td>Q3_95</td>\n",
       "      <td>4895.000000</td>\n",
       "    </tr>\n",
       "    <tr>\n",
       "      <th>39</th>\n",
       "      <td>Q4_95</td>\n",
       "      <td>4333.000000</td>\n",
       "    </tr>\n",
       "    <tr>\n",
       "      <th>40</th>\n",
       "      <td>Q1_96</td>\n",
       "      <td>4194.000000</td>\n",
       "    </tr>\n",
       "    <tr>\n",
       "      <th>41</th>\n",
       "      <td>Q2_96</td>\n",
       "      <td>5253.000000</td>\n",
       "    </tr>\n",
       "  </tbody>\n",
       "</table>\n",
       "</div>"
      ],
      "text/plain": [
       "   Quarter        Sales\n",
       "0    Q1_86  1734.827000\n",
       "1    Q2_86  2244.960999\n",
       "2    Q3_86  2533.804993\n",
       "3    Q4_86  2154.962997\n",
       "4    Q1_87  1547.818996\n",
       "5    Q2_87  2104.411995\n",
       "6    Q3_87  2014.362999\n",
       "7    Q4_87  1991.746998\n",
       "8    Q1_88  1869.049999\n",
       "9    Q2_88  2313.631996\n",
       "10   Q3_88  2128.320000\n",
       "11   Q4_88  2026.828999\n",
       "12   Q1_89  1910.603996\n",
       "13   Q2_89  2331.164993\n",
       "14   Q3_89  2206.549995\n",
       "15   Q4_89  2173.967995\n",
       "16   Q1_90  2148.278000\n",
       "17   Q2_90  2739.307999\n",
       "18   Q3_90  2792.753998\n",
       "19   Q4_90  2556.009995\n",
       "20   Q1_91  2480.973999\n",
       "21   Q2_91  3039.522995\n",
       "22   Q3_91  3172.115997\n",
       "23   Q4_91  2879.000999\n",
       "24   Q1_92  2772.000000\n",
       "25   Q2_92  3550.000000\n",
       "26   Q3_92  3508.000000\n",
       "27   Q4_92  3243.859993\n",
       "28   Q1_93  3056.000000\n",
       "29   Q2_93  3899.000000\n",
       "30   Q3_93  3629.000000\n",
       "31   Q4_93  3373.000000\n",
       "32   Q1_94  3352.000000\n",
       "33   Q2_94  4342.000000\n",
       "34   Q3_94  4461.000000\n",
       "35   Q4_94  4017.000000\n",
       "36   Q1_95  3854.000000\n",
       "37   Q2_95  4936.000000\n",
       "38   Q3_95  4895.000000\n",
       "39   Q4_95  4333.000000\n",
       "40   Q1_96  4194.000000\n",
       "41   Q2_96  5253.000000"
      ]
     },
     "execution_count": 2,
     "metadata": {},
     "output_type": "execute_result"
    }
   ],
   "source": [
    "# Import Dataset\n",
    "\n",
    "data=pd.read_excel(\"CocaCola_Sales_Rawdata.xlsx\")\n",
    "data"
   ]
  },
  {
   "cell_type": "code",
   "execution_count": 3,
   "id": "7404f8e4",
   "metadata": {},
   "outputs": [
    {
     "data": {
      "text/plain": [
       "(42, 2)"
      ]
     },
     "execution_count": 3,
     "metadata": {},
     "output_type": "execute_result"
    }
   ],
   "source": [
    "data.shape"
   ]
  },
  {
   "cell_type": "code",
   "execution_count": 4,
   "id": "0e9f3ba6",
   "metadata": {},
   "outputs": [
    {
     "name": "stdout",
     "output_type": "stream",
     "text": [
      "<class 'pandas.core.frame.DataFrame'>\n",
      "RangeIndex: 42 entries, 0 to 41\n",
      "Data columns (total 2 columns):\n",
      " #   Column   Non-Null Count  Dtype  \n",
      "---  ------   --------------  -----  \n",
      " 0   Quarter  42 non-null     object \n",
      " 1   Sales    42 non-null     float64\n",
      "dtypes: float64(1), object(1)\n",
      "memory usage: 800.0+ bytes\n"
     ]
    }
   ],
   "source": [
    "data.info()"
   ]
  },
  {
   "cell_type": "code",
   "execution_count": 5,
   "id": "a1bda11a",
   "metadata": {},
   "outputs": [
    {
     "data": {
      "text/html": [
       "<div>\n",
       "<style scoped>\n",
       "    .dataframe tbody tr th:only-of-type {\n",
       "        vertical-align: middle;\n",
       "    }\n",
       "\n",
       "    .dataframe tbody tr th {\n",
       "        vertical-align: top;\n",
       "    }\n",
       "\n",
       "    .dataframe thead th {\n",
       "        text-align: right;\n",
       "    }\n",
       "</style>\n",
       "<table border=\"1\" class=\"dataframe\">\n",
       "  <thead>\n",
       "    <tr style=\"text-align: right;\">\n",
       "      <th></th>\n",
       "      <th>Sales</th>\n",
       "    </tr>\n",
       "  </thead>\n",
       "  <tbody>\n",
       "    <tr>\n",
       "      <th>count</th>\n",
       "      <td>42.000000</td>\n",
       "    </tr>\n",
       "    <tr>\n",
       "      <th>mean</th>\n",
       "      <td>2994.353308</td>\n",
       "    </tr>\n",
       "    <tr>\n",
       "      <th>std</th>\n",
       "      <td>977.930896</td>\n",
       "    </tr>\n",
       "    <tr>\n",
       "      <th>min</th>\n",
       "      <td>1547.818996</td>\n",
       "    </tr>\n",
       "    <tr>\n",
       "      <th>25%</th>\n",
       "      <td>2159.714247</td>\n",
       "    </tr>\n",
       "    <tr>\n",
       "      <th>50%</th>\n",
       "      <td>2782.376999</td>\n",
       "    </tr>\n",
       "    <tr>\n",
       "      <th>75%</th>\n",
       "      <td>3609.250000</td>\n",
       "    </tr>\n",
       "    <tr>\n",
       "      <th>max</th>\n",
       "      <td>5253.000000</td>\n",
       "    </tr>\n",
       "  </tbody>\n",
       "</table>\n",
       "</div>"
      ],
      "text/plain": [
       "             Sales\n",
       "count    42.000000\n",
       "mean   2994.353308\n",
       "std     977.930896\n",
       "min    1547.818996\n",
       "25%    2159.714247\n",
       "50%    2782.376999\n",
       "75%    3609.250000\n",
       "max    5253.000000"
      ]
     },
     "execution_count": 5,
     "metadata": {},
     "output_type": "execute_result"
    }
   ],
   "source": [
    "data.describe()"
   ]
  },
  {
   "cell_type": "code",
   "execution_count": 6,
   "id": "0d7dde99",
   "metadata": {},
   "outputs": [
    {
     "data": {
      "text/plain": [
       "Quarter     object\n",
       "Sales      float64\n",
       "dtype: object"
      ]
     },
     "execution_count": 6,
     "metadata": {},
     "output_type": "execute_result"
    }
   ],
   "source": [
    "data.dtypes"
   ]
  },
  {
   "cell_type": "code",
   "execution_count": 7,
   "id": "6cd4a1ec",
   "metadata": {},
   "outputs": [
    {
     "data": {
      "image/png": "[encoded data removed]",
      "text/plain": [
       "<Figure size 1080x432 with 1 Axes>"
      ]
     },
     "metadata": {
      "needs_background": "light"
     },
     "output_type": "display_data"
    }
   ],
   "source": [
    "data['Sales'].plot(figsize=(15, 6))\n",
    "plt.show()"
   ]
  },
  {
   "cell_type": "code",
   "execution_count": 8,
   "id": "4a9d9bab",
   "metadata": {},
   "outputs": [
    {
     "data": {
      "text/plain": [
       "array([[<AxesSubplot:title={'center':'Sales'}>]], dtype=object)"
      ]
     },
     "execution_count": 8,
     "metadata": {},
     "output_type": "execute_result"
    },
    {
     "data": {
      "image/png": "[encoded data removed]",
      "text/plain": [
       "<Figure size 432x288 with 1 Axes>"
      ]
     },
     "metadata": {
      "needs_background": "light"
     },
     "output_type": "display_data"
    }
   ],
   "source": [
    "data.hist()"
   ]
  },
  {
   "cell_type": "code",
   "execution_count": 9,
   "id": "7ce223e3",
   "metadata": {
    "scrolled": false
   },
   "outputs": [
    {
     "data": {
      "image/png": "[encoded data removed]",
      "text/plain": [
       "<Figure size 432x288 with 1 Axes>"
      ]
     },
     "metadata": {
      "needs_background": "light"
     },
     "output_type": "display_data"
    }
   ],
   "source": [
    "data.plot(kind=\"kde\")\n",
    "plt.show()"
   ]
  },
  {
   "cell_type": "raw",
   "id": "a657bafb",
   "metadata": {},
   "source": []
  },
  {
   "cell_type": "code",
   "execution_count": 10,
   "id": "c7bbb1db",
   "metadata": {},
   "outputs": [],
   "source": [
    "data1 = data.copy()"
   ]
  },
  {
   "cell_type": "markdown",
   "id": "97218193",
   "metadata": {},
   "source": [
    "#### Making seasonal_decompose graph from statsmodels.tsa.seasonal library And Analysis the Trend, Seasonal And Residuals in dataset"
   ]
  },
  {
   "cell_type": "code",
   "execution_count": 11,
   "id": "4edc334c",
   "metadata": {},
   "outputs": [
    {
     "name": "stderr",
     "output_type": "stream",
     "text": [
      "C:\\Users\\Rishb\\AppData\\Local\\Temp\\ipykernel_17888\\3570800419.py:1: FutureWarning: The default value of regex will change from True to False in a future version.\n",
      "  temp = data1.Quarter.str.replace(r'(Q\\d)_(\\d+)', r'19\\2-\\1')\n"
     ]
    }
   ],
   "source": [
    "temp = data1.Quarter.str.replace(r'(Q\\d)_(\\d+)', r'19\\2-\\1')"
   ]
  },
  {
   "cell_type": "code",
   "execution_count": 12,
   "id": "7f740f62",
   "metadata": {},
   "outputs": [],
   "source": [
    "data1['quater'] = pd.to_datetime(temp).dt.strftime('%b-%Y')"
   ]
  },
  {
   "cell_type": "code",
   "execution_count": 13,
   "id": "c9c9acb9",
   "metadata": {},
   "outputs": [
    {
     "data": {
      "text/html": [
       "<div>\n",
       "<style scoped>\n",
       "    .dataframe tbody tr th:only-of-type {\n",
       "        vertical-align: middle;\n",
       "    }\n",
       "\n",
       "    .dataframe tbody tr th {\n",
       "        vertical-align: top;\n",
       "    }\n",
       "\n",
       "    .dataframe thead th {\n",
       "        text-align: right;\n",
       "    }\n",
       "</style>\n",
       "<table border=\"1\" class=\"dataframe\">\n",
       "  <thead>\n",
       "    <tr style=\"text-align: right;\">\n",
       "      <th></th>\n",
       "      <th>Quarter</th>\n",
       "      <th>Sales</th>\n",
       "      <th>quater</th>\n",
       "    </tr>\n",
       "  </thead>\n",
       "  <tbody>\n",
       "    <tr>\n",
       "      <th>0</th>\n",
       "      <td>Q1_86</td>\n",
       "      <td>1734.827000</td>\n",
       "      <td>Jan-1986</td>\n",
       "    </tr>\n",
       "    <tr>\n",
       "      <th>1</th>\n",
       "      <td>Q2_86</td>\n",
       "      <td>2244.960999</td>\n",
       "      <td>Apr-1986</td>\n",
       "    </tr>\n",
       "    <tr>\n",
       "      <th>2</th>\n",
       "      <td>Q3_86</td>\n",
       "      <td>2533.804993</td>\n",
       "      <td>Jul-1986</td>\n",
       "    </tr>\n",
       "    <tr>\n",
       "      <th>3</th>\n",
       "      <td>Q4_86</td>\n",
       "      <td>2154.962997</td>\n",
       "      <td>Oct-1986</td>\n",
       "    </tr>\n",
       "    <tr>\n",
       "      <th>4</th>\n",
       "      <td>Q1_87</td>\n",
       "      <td>1547.818996</td>\n",
       "      <td>Jan-1987</td>\n",
       "    </tr>\n",
       "  </tbody>\n",
       "</table>\n",
       "</div>"
      ],
      "text/plain": [
       "  Quarter        Sales    quater\n",
       "0   Q1_86  1734.827000  Jan-1986\n",
       "1   Q2_86  2244.960999  Apr-1986\n",
       "2   Q3_86  2533.804993  Jul-1986\n",
       "3   Q4_86  2154.962997  Oct-1986\n",
       "4   Q1_87  1547.818996  Jan-1987"
      ]
     },
     "execution_count": 13,
     "metadata": {},
     "output_type": "execute_result"
    }
   ],
   "source": [
    "data1.head()"
   ]
  },
  {
   "cell_type": "code",
   "execution_count": 14,
   "id": "2b67f47c",
   "metadata": {},
   "outputs": [],
   "source": [
    "data1 = data1.drop(['Quarter'], axis=1)\n"
   ]
  },
  {
   "cell_type": "code",
   "execution_count": 15,
   "id": "f2870b32",
   "metadata": {},
   "outputs": [
    {
     "data": {
      "text/html": [
       "<div>\n",
       "<style scoped>\n",
       "    .dataframe tbody tr th:only-of-type {\n",
       "        vertical-align: middle;\n",
       "    }\n",
       "\n",
       "    .dataframe tbody tr th {\n",
       "        vertical-align: top;\n",
       "    }\n",
       "\n",
       "    .dataframe thead th {\n",
       "        text-align: right;\n",
       "    }\n",
       "</style>\n",
       "<table border=\"1\" class=\"dataframe\">\n",
       "  <thead>\n",
       "    <tr style=\"text-align: right;\">\n",
       "      <th></th>\n",
       "      <th>Sales</th>\n",
       "      <th>quater</th>\n",
       "    </tr>\n",
       "  </thead>\n",
       "  <tbody>\n",
       "    <tr>\n",
       "      <th>0</th>\n",
       "      <td>1734.827000</td>\n",
       "      <td>Jan-1986</td>\n",
       "    </tr>\n",
       "    <tr>\n",
       "      <th>1</th>\n",
       "      <td>2244.960999</td>\n",
       "      <td>Apr-1986</td>\n",
       "    </tr>\n",
       "    <tr>\n",
       "      <th>2</th>\n",
       "      <td>2533.804993</td>\n",
       "      <td>Jul-1986</td>\n",
       "    </tr>\n",
       "    <tr>\n",
       "      <th>3</th>\n",
       "      <td>2154.962997</td>\n",
       "      <td>Oct-1986</td>\n",
       "    </tr>\n",
       "    <tr>\n",
       "      <th>4</th>\n",
       "      <td>1547.818996</td>\n",
       "      <td>Jan-1987</td>\n",
       "    </tr>\n",
       "  </tbody>\n",
       "</table>\n",
       "</div>"
      ],
      "text/plain": [
       "         Sales    quater\n",
       "0  1734.827000  Jan-1986\n",
       "1  2244.960999  Apr-1986\n",
       "2  2533.804993  Jul-1986\n",
       "3  2154.962997  Oct-1986\n",
       "4  1547.818996  Jan-1987"
      ]
     },
     "execution_count": 15,
     "metadata": {},
     "output_type": "execute_result"
    }
   ],
   "source": [
    "data1.head()"
   ]
  },
  {
   "cell_type": "code",
   "execution_count": 16,
   "id": "c910e4e3",
   "metadata": {},
   "outputs": [],
   "source": [
    "data1.reset_index(inplace=True)"
   ]
  },
  {
   "cell_type": "code",
   "execution_count": 17,
   "id": "c4f4f73d",
   "metadata": {},
   "outputs": [],
   "source": [
    "data1['quater'] = pd.to_datetime(data1['quater'])"
   ]
  },
  {
   "cell_type": "code",
   "execution_count": 18,
   "id": "f6a4b429",
   "metadata": {},
   "outputs": [],
   "source": [
    "data1 = data1.set_index('quater')"
   ]
  },
  {
   "cell_type": "code",
   "execution_count": 19,
   "id": "50b8f66e",
   "metadata": {
    "scrolled": false
   },
   "outputs": [
    {
     "data": {
      "text/html": [
       "<div>\n",
       "<style scoped>\n",
       "    .dataframe tbody tr th:only-of-type {\n",
       "        vertical-align: middle;\n",
       "    }\n",
       "\n",
       "    .dataframe tbody tr th {\n",
       "        vertical-align: top;\n",
       "    }\n",
       "\n",
       "    .dataframe thead th {\n",
       "        text-align: right;\n",
       "    }\n",
       "</style>\n",
       "<table border=\"1\" class=\"dataframe\">\n",
       "  <thead>\n",
       "    <tr style=\"text-align: right;\">\n",
       "      <th></th>\n",
       "      <th>index</th>\n",
       "      <th>Sales</th>\n",
       "    </tr>\n",
       "    <tr>\n",
       "      <th>quater</th>\n",
       "      <th></th>\n",
       "      <th></th>\n",
       "    </tr>\n",
       "  </thead>\n",
       "  <tbody>\n",
       "    <tr>\n",
       "      <th>1986-01-01</th>\n",
       "      <td>0</td>\n",
       "      <td>1734.827000</td>\n",
       "    </tr>\n",
       "    <tr>\n",
       "      <th>1986-04-01</th>\n",
       "      <td>1</td>\n",
       "      <td>2244.960999</td>\n",
       "    </tr>\n",
       "    <tr>\n",
       "      <th>1986-07-01</th>\n",
       "      <td>2</td>\n",
       "      <td>2533.804993</td>\n",
       "    </tr>\n",
       "    <tr>\n",
       "      <th>1986-10-01</th>\n",
       "      <td>3</td>\n",
       "      <td>2154.962997</td>\n",
       "    </tr>\n",
       "    <tr>\n",
       "      <th>1987-01-01</th>\n",
       "      <td>4</td>\n",
       "      <td>1547.818996</td>\n",
       "    </tr>\n",
       "  </tbody>\n",
       "</table>\n",
       "</div>"
      ],
      "text/plain": [
       "            index        Sales\n",
       "quater                        \n",
       "1986-01-01      0  1734.827000\n",
       "1986-04-01      1  2244.960999\n",
       "1986-07-01      2  2533.804993\n",
       "1986-10-01      3  2154.962997\n",
       "1987-01-01      4  1547.818996"
      ]
     },
     "execution_count": 19,
     "metadata": {},
     "output_type": "execute_result"
    }
   ],
   "source": [
    "data1.head()"
   ]
  },
  {
   "cell_type": "code",
   "execution_count": 20,
   "id": "6a5a5bb5",
   "metadata": {
    "scrolled": true
   },
   "outputs": [
    {
     "data": {
      "text/plain": [
       "[<matplotlib.lines.Line2D at 0x1b988dd1400>,\n",
       " <matplotlib.lines.Line2D at 0x1b988e02490>]"
      ]
     },
     "execution_count": 20,
     "metadata": {},
     "output_type": "execute_result"
    },
    {
     "data": {
      "image/png": "[encoded data removed]",
      "text/plain": [
       "<Figure size 432x288 with 1 Axes>"
      ]
     },
     "metadata": {
      "needs_background": "light"
     },
     "output_type": "display_data"
    }
   ],
   "source": [
    "# Plot the graph between Date and Sales\n",
    "\n",
    "plt.xlabel(\"QUATER\")\n",
    "plt.ylabel(\"Sales\")\n",
    "plt.plot(data1)"
   ]
  },
  {
   "cell_type": "markdown",
   "id": "d6239f40",
   "metadata": {},
   "source": [
    "### Augmented Dickey-fuller test"
   ]
  },
  {
   "cell_type": "raw",
   "id": "e5cc03ec",
   "metadata": {},
   "source": [
    "* Null Hypothesis: Time Series is stationary. It gives a time-dependent trend.\n",
    "* Alternate Hypothesis: Time Series is non-stationary. In another term, the series doesn’t depend on time.\n",
    "* ADF or t Statistic < critical values: Accept the null hypothesis. Time series is stationary.\n",
    "* ADF or t Statistic > critical values: Failed to reject the null hypothesis. The time series is non-stationary"
   ]
  },
  {
   "cell_type": "code",
   "execution_count": 21,
   "id": "1ae0822e",
   "metadata": {},
   "outputs": [
    {
     "name": "stdout",
     "output_type": "stream",
     "text": [
      "ADF Statistic: 1.309421\n",
      "p-value: 0.996661\n",
      "Critical Values:\n",
      "\t1%: -3.639\n",
      "\t5%: -2.951\n",
      "\t10%: -2.614\n",
      "Failed to Reject Ho - Time Series is Non-Stationary\n"
     ]
    }
   ],
   "source": [
    "from statsmodels.tsa.stattools import adfuller\n",
    "\n",
    "#ADF statistic to check stationarity\n",
    "t = data1[\"Sales\"].values\n",
    "timeseries = adfuller(t)\n",
    "print('ADF Statistic: %f' % timeseries[0])\n",
    "print('p-value: %f' % timeseries[1])\n",
    "print('Critical Values:')\n",
    "for key, value in timeseries[4].items():\n",
    " print('\\t%s: %.3f' % (key, value))\n",
    "if timeseries[0] > timeseries[4][\"5%\"]:\n",
    " print (\"Failed to Reject Ho - Time Series is Non-Stationary\")\n",
    "else:\n",
    " print (\"Reject Ho - Time Series is Stationary\")"
   ]
  },
  {
   "cell_type": "code",
   "execution_count": 22,
   "id": "dd707e1e",
   "metadata": {},
   "outputs": [
    {
     "name": "stdout",
     "output_type": "stream",
     "text": [
      "Observations of Dickey-fuller test\n",
      "Test Statistic                  1.309421\n",
      "p-value                         0.996661\n",
      "#lags used                      7.000000\n",
      "number of observations used    34.000000\n",
      "critical value (1%)            -3.639224\n",
      "critical value (5%)            -2.951230\n",
      "critical value (10%)           -2.614447\n",
      "dtype: float64\n"
     ]
    }
   ],
   "source": [
    "print(\"Observations of Dickey-fuller test\")\n",
    "dftest = adfuller(data1['Sales'],autolag='AIC')\n",
    "dfoutput=pd.Series(dftest[0:4],index=['Test Statistic','p-value','#lags used','number of observations used'])\n",
    "for key,value in dftest[4].items():\n",
    "    dfoutput['critical value (%s)'%key]= value\n",
    "print(dfoutput)"
   ]
  },
  {
   "cell_type": "markdown",
   "id": "1c0b1de4",
   "metadata": {},
   "source": [
    "### Rolling Statistics Test"
   ]
  },
  {
   "cell_type": "code",
   "execution_count": 23,
   "id": "f8617c66",
   "metadata": {},
   "outputs": [
    {
     "data": {
      "text/plain": [
       "<matplotlib.legend.Legend at 0x1b9841df730>"
      ]
     },
     "execution_count": 23,
     "metadata": {},
     "output_type": "execute_result"
    },
    {
     "data": {
      "image/png": "[encoded data removed]",
      "text/plain": [
       "<Figure size 720x432 with 1 Axes>"
      ]
     },
     "metadata": {
      "needs_background": "light"
     },
     "output_type": "display_data"
    }
   ],
   "source": [
    "rmean=data1.rolling(window=12).mean()\n",
    "rstd=data1.rolling(window=12).std()\n",
    "# print(rmean,rstd)\n",
    "plt.figure(figsize = (10,6))\n",
    "orig=plt.plot(data1 , color='black',label='Original')\n",
    "mean= plt.plot(rmean , color='red',label='Rolling Mean')\n",
    "std=plt.plot(rstd,color='blue',label = 'Rolling Standard Deviation')\n",
    "plt.legend(loc='best')"
   ]
  },
  {
   "cell_type": "markdown",
   "id": "24e04399",
   "metadata": {},
   "source": [
    "#### Now applying Log Transformtion for making Stationry dataset"
   ]
  },
  {
   "cell_type": "code",
   "execution_count": 24,
   "id": "79dce9e0",
   "metadata": {},
   "outputs": [
    {
     "data": {
      "text/plain": [
       "quater\n",
       "1986-01-01    7.458663\n",
       "1986-04-01    7.716443\n",
       "1986-07-01    7.837477\n",
       "1986-10-01    7.675529\n",
       "1987-01-01    7.344602\n",
       "1987-04-01    7.651791\n",
       "1987-07-01    7.608058\n",
       "1987-10-01    7.596767\n",
       "1988-01-01    7.533186\n",
       "1988-04-01    7.746574\n",
       "1988-07-01    7.663088\n",
       "1988-10-01    7.614228\n",
       "1989-01-01    7.555175\n",
       "1989-04-01    7.754123\n",
       "1989-07-01    7.699185\n",
       "1989-10-01    7.684309\n",
       "1990-01-01    7.672422\n",
       "1990-04-01    7.915461\n",
       "1990-07-01    7.934783\n",
       "1990-10-01    7.846203\n",
       "1991-01-01    7.816407\n",
       "1991-04-01    8.019456\n",
       "1991-07-01    8.062154\n",
       "1991-10-01    7.965199\n",
       "1992-01-01    7.927324\n",
       "1992-04-01    8.174703\n",
       "1992-07-01    8.162801\n",
       "1992-10-01    8.084519\n",
       "1993-01-01    8.024862\n",
       "1993-04-01    8.268475\n",
       "1993-07-01    8.196712\n",
       "1993-10-01    8.123558\n",
       "1994-01-01    8.117312\n",
       "1994-04-01    8.376090\n",
       "1994-07-01    8.403128\n",
       "1994-10-01    8.298291\n",
       "1995-01-01    8.256867\n",
       "1995-04-01    8.504311\n",
       "1995-07-01    8.495970\n",
       "1995-10-01    8.374015\n",
       "1996-01-01    8.341410\n",
       "1996-04-01    8.566555\n",
       "Name: Sales, dtype: float64"
      ]
     },
     "execution_count": 24,
     "metadata": {},
     "output_type": "execute_result"
    }
   ],
   "source": [
    "dff = np.log(data1['Sales'])\n",
    "dff"
   ]
  },
  {
   "cell_type": "code",
   "execution_count": 25,
   "id": "ddc100b3",
   "metadata": {
    "scrolled": true
   },
   "outputs": [
    {
     "data": {
      "text/html": [
       "<div>\n",
       "<style scoped>\n",
       "    .dataframe tbody tr th:only-of-type {\n",
       "        vertical-align: middle;\n",
       "    }\n",
       "\n",
       "    .dataframe tbody tr th {\n",
       "        vertical-align: top;\n",
       "    }\n",
       "\n",
       "    .dataframe thead th {\n",
       "        text-align: right;\n",
       "    }\n",
       "</style>\n",
       "<table border=\"1\" class=\"dataframe\">\n",
       "  <thead>\n",
       "    <tr style=\"text-align: right;\">\n",
       "      <th></th>\n",
       "      <th>index</th>\n",
       "      <th>Sales</th>\n",
       "      <th>N_sales</th>\n",
       "    </tr>\n",
       "    <tr>\n",
       "      <th>quater</th>\n",
       "      <th></th>\n",
       "      <th></th>\n",
       "      <th></th>\n",
       "    </tr>\n",
       "  </thead>\n",
       "  <tbody>\n",
       "    <tr>\n",
       "      <th>1986-01-01</th>\n",
       "      <td>0</td>\n",
       "      <td>1734.827000</td>\n",
       "      <td>7.458663</td>\n",
       "    </tr>\n",
       "    <tr>\n",
       "      <th>1986-04-01</th>\n",
       "      <td>1</td>\n",
       "      <td>2244.960999</td>\n",
       "      <td>7.716443</td>\n",
       "    </tr>\n",
       "    <tr>\n",
       "      <th>1986-07-01</th>\n",
       "      <td>2</td>\n",
       "      <td>2533.804993</td>\n",
       "      <td>7.837477</td>\n",
       "    </tr>\n",
       "    <tr>\n",
       "      <th>1986-10-01</th>\n",
       "      <td>3</td>\n",
       "      <td>2154.962997</td>\n",
       "      <td>7.675529</td>\n",
       "    </tr>\n",
       "    <tr>\n",
       "      <th>1987-01-01</th>\n",
       "      <td>4</td>\n",
       "      <td>1547.818996</td>\n",
       "      <td>7.344602</td>\n",
       "    </tr>\n",
       "    <tr>\n",
       "      <th>1987-04-01</th>\n",
       "      <td>5</td>\n",
       "      <td>2104.411995</td>\n",
       "      <td>7.651791</td>\n",
       "    </tr>\n",
       "    <tr>\n",
       "      <th>1987-07-01</th>\n",
       "      <td>6</td>\n",
       "      <td>2014.362999</td>\n",
       "      <td>7.608058</td>\n",
       "    </tr>\n",
       "    <tr>\n",
       "      <th>1987-10-01</th>\n",
       "      <td>7</td>\n",
       "      <td>1991.746998</td>\n",
       "      <td>7.596767</td>\n",
       "    </tr>\n",
       "    <tr>\n",
       "      <th>1988-01-01</th>\n",
       "      <td>8</td>\n",
       "      <td>1869.049999</td>\n",
       "      <td>7.533186</td>\n",
       "    </tr>\n",
       "    <tr>\n",
       "      <th>1988-04-01</th>\n",
       "      <td>9</td>\n",
       "      <td>2313.631996</td>\n",
       "      <td>7.746574</td>\n",
       "    </tr>\n",
       "    <tr>\n",
       "      <th>1988-07-01</th>\n",
       "      <td>10</td>\n",
       "      <td>2128.320000</td>\n",
       "      <td>7.663088</td>\n",
       "    </tr>\n",
       "    <tr>\n",
       "      <th>1988-10-01</th>\n",
       "      <td>11</td>\n",
       "      <td>2026.828999</td>\n",
       "      <td>7.614228</td>\n",
       "    </tr>\n",
       "    <tr>\n",
       "      <th>1989-01-01</th>\n",
       "      <td>12</td>\n",
       "      <td>1910.603996</td>\n",
       "      <td>7.555175</td>\n",
       "    </tr>\n",
       "    <tr>\n",
       "      <th>1989-04-01</th>\n",
       "      <td>13</td>\n",
       "      <td>2331.164993</td>\n",
       "      <td>7.754123</td>\n",
       "    </tr>\n",
       "    <tr>\n",
       "      <th>1989-07-01</th>\n",
       "      <td>14</td>\n",
       "      <td>2206.549995</td>\n",
       "      <td>7.699185</td>\n",
       "    </tr>\n",
       "    <tr>\n",
       "      <th>1989-10-01</th>\n",
       "      <td>15</td>\n",
       "      <td>2173.967995</td>\n",
       "      <td>7.684309</td>\n",
       "    </tr>\n",
       "    <tr>\n",
       "      <th>1990-01-01</th>\n",
       "      <td>16</td>\n",
       "      <td>2148.278000</td>\n",
       "      <td>7.672422</td>\n",
       "    </tr>\n",
       "    <tr>\n",
       "      <th>1990-04-01</th>\n",
       "      <td>17</td>\n",
       "      <td>2739.307999</td>\n",
       "      <td>7.915461</td>\n",
       "    </tr>\n",
       "    <tr>\n",
       "      <th>1990-07-01</th>\n",
       "      <td>18</td>\n",
       "      <td>2792.753998</td>\n",
       "      <td>7.934783</td>\n",
       "    </tr>\n",
       "    <tr>\n",
       "      <th>1990-10-01</th>\n",
       "      <td>19</td>\n",
       "      <td>2556.009995</td>\n",
       "      <td>7.846203</td>\n",
       "    </tr>\n",
       "    <tr>\n",
       "      <th>1991-01-01</th>\n",
       "      <td>20</td>\n",
       "      <td>2480.973999</td>\n",
       "      <td>7.816407</td>\n",
       "    </tr>\n",
       "    <tr>\n",
       "      <th>1991-04-01</th>\n",
       "      <td>21</td>\n",
       "      <td>3039.522995</td>\n",
       "      <td>8.019456</td>\n",
       "    </tr>\n",
       "    <tr>\n",
       "      <th>1991-07-01</th>\n",
       "      <td>22</td>\n",
       "      <td>3172.115997</td>\n",
       "      <td>8.062154</td>\n",
       "    </tr>\n",
       "    <tr>\n",
       "      <th>1991-10-01</th>\n",
       "      <td>23</td>\n",
       "      <td>2879.000999</td>\n",
       "      <td>7.965199</td>\n",
       "    </tr>\n",
       "    <tr>\n",
       "      <th>1992-01-01</th>\n",
       "      <td>24</td>\n",
       "      <td>2772.000000</td>\n",
       "      <td>7.927324</td>\n",
       "    </tr>\n",
       "    <tr>\n",
       "      <th>1992-04-01</th>\n",
       "      <td>25</td>\n",
       "      <td>3550.000000</td>\n",
       "      <td>8.174703</td>\n",
       "    </tr>\n",
       "    <tr>\n",
       "      <th>1992-07-01</th>\n",
       "      <td>26</td>\n",
       "      <td>3508.000000</td>\n",
       "      <td>8.162801</td>\n",
       "    </tr>\n",
       "    <tr>\n",
       "      <th>1992-10-01</th>\n",
       "      <td>27</td>\n",
       "      <td>3243.859993</td>\n",
       "      <td>8.084519</td>\n",
       "    </tr>\n",
       "    <tr>\n",
       "      <th>1993-01-01</th>\n",
       "      <td>28</td>\n",
       "      <td>3056.000000</td>\n",
       "      <td>8.024862</td>\n",
       "    </tr>\n",
       "    <tr>\n",
       "      <th>1993-04-01</th>\n",
       "      <td>29</td>\n",
       "      <td>3899.000000</td>\n",
       "      <td>8.268475</td>\n",
       "    </tr>\n",
       "    <tr>\n",
       "      <th>1993-07-01</th>\n",
       "      <td>30</td>\n",
       "      <td>3629.000000</td>\n",
       "      <td>8.196712</td>\n",
       "    </tr>\n",
       "    <tr>\n",
       "      <th>1993-10-01</th>\n",
       "      <td>31</td>\n",
       "      <td>3373.000000</td>\n",
       "      <td>8.123558</td>\n",
       "    </tr>\n",
       "    <tr>\n",
       "      <th>1994-01-01</th>\n",
       "      <td>32</td>\n",
       "      <td>3352.000000</td>\n",
       "      <td>8.117312</td>\n",
       "    </tr>\n",
       "    <tr>\n",
       "      <th>1994-04-01</th>\n",
       "      <td>33</td>\n",
       "      <td>4342.000000</td>\n",
       "      <td>8.376090</td>\n",
       "    </tr>\n",
       "    <tr>\n",
       "      <th>1994-07-01</th>\n",
       "      <td>34</td>\n",
       "      <td>4461.000000</td>\n",
       "      <td>8.403128</td>\n",
       "    </tr>\n",
       "    <tr>\n",
       "      <th>1994-10-01</th>\n",
       "      <td>35</td>\n",
       "      <td>4017.000000</td>\n",
       "      <td>8.298291</td>\n",
       "    </tr>\n",
       "    <tr>\n",
       "      <th>1995-01-01</th>\n",
       "      <td>36</td>\n",
       "      <td>3854.000000</td>\n",
       "      <td>8.256867</td>\n",
       "    </tr>\n",
       "    <tr>\n",
       "      <th>1995-04-01</th>\n",
       "      <td>37</td>\n",
       "      <td>4936.000000</td>\n",
       "      <td>8.504311</td>\n",
       "    </tr>\n",
       "    <tr>\n",
       "      <th>1995-07-01</th>\n",
       "      <td>38</td>\n",
       "      <td>4895.000000</td>\n",
       "      <td>8.495970</td>\n",
       "    </tr>\n",
       "    <tr>\n",
       "      <th>1995-10-01</th>\n",
       "      <td>39</td>\n",
       "      <td>4333.000000</td>\n",
       "      <td>8.374015</td>\n",
       "    </tr>\n",
       "    <tr>\n",
       "      <th>1996-01-01</th>\n",
       "      <td>40</td>\n",
       "      <td>4194.000000</td>\n",
       "      <td>8.341410</td>\n",
       "    </tr>\n",
       "    <tr>\n",
       "      <th>1996-04-01</th>\n",
       "      <td>41</td>\n",
       "      <td>5253.000000</td>\n",
       "      <td>8.566555</td>\n",
       "    </tr>\n",
       "  </tbody>\n",
       "</table>\n",
       "</div>"
      ],
      "text/plain": [
       "            index        Sales   N_sales\n",
       "quater                                  \n",
       "1986-01-01      0  1734.827000  7.458663\n",
       "1986-04-01      1  2244.960999  7.716443\n",
       "1986-07-01      2  2533.804993  7.837477\n",
       "1986-10-01      3  2154.962997  7.675529\n",
       "1987-01-01      4  1547.818996  7.344602\n",
       "1987-04-01      5  2104.411995  7.651791\n",
       "1987-07-01      6  2014.362999  7.608058\n",
       "1987-10-01      7  1991.746998  7.596767\n",
       "1988-01-01      8  1869.049999  7.533186\n",
       "1988-04-01      9  2313.631996  7.746574\n",
       "1988-07-01     10  2128.320000  7.663088\n",
       "1988-10-01     11  2026.828999  7.614228\n",
       "1989-01-01     12  1910.603996  7.555175\n",
       "1989-04-01     13  2331.164993  7.754123\n",
       "1989-07-01     14  2206.549995  7.699185\n",
       "1989-10-01     15  2173.967995  7.684309\n",
       "1990-01-01     16  2148.278000  7.672422\n",
       "1990-04-01     17  2739.307999  7.915461\n",
       "1990-07-01     18  2792.753998  7.934783\n",
       "1990-10-01     19  2556.009995  7.846203\n",
       "1991-01-01     20  2480.973999  7.816407\n",
       "1991-04-01     21  3039.522995  8.019456\n",
       "1991-07-01     22  3172.115997  8.062154\n",
       "1991-10-01     23  2879.000999  7.965199\n",
       "1992-01-01     24  2772.000000  7.927324\n",
       "1992-04-01     25  3550.000000  8.174703\n",
       "1992-07-01     26  3508.000000  8.162801\n",
       "1992-10-01     27  3243.859993  8.084519\n",
       "1993-01-01     28  3056.000000  8.024862\n",
       "1993-04-01     29  3899.000000  8.268475\n",
       "1993-07-01     30  3629.000000  8.196712\n",
       "1993-10-01     31  3373.000000  8.123558\n",
       "1994-01-01     32  3352.000000  8.117312\n",
       "1994-04-01     33  4342.000000  8.376090\n",
       "1994-07-01     34  4461.000000  8.403128\n",
       "1994-10-01     35  4017.000000  8.298291\n",
       "1995-01-01     36  3854.000000  8.256867\n",
       "1995-04-01     37  4936.000000  8.504311\n",
       "1995-07-01     38  4895.000000  8.495970\n",
       "1995-10-01     39  4333.000000  8.374015\n",
       "1996-01-01     40  4194.000000  8.341410\n",
       "1996-04-01     41  5253.000000  8.566555"
      ]
     },
     "execution_count": 25,
     "metadata": {},
     "output_type": "execute_result"
    }
   ],
   "source": [
    "data1['N_sales'] = dff\n",
    "data1"
   ]
  },
  {
   "cell_type": "code",
   "execution_count": 26,
   "id": "fad03adf",
   "metadata": {},
   "outputs": [
    {
     "data": {
      "image/png": "[encoded data removed]",
      "text/plain": [
       "<Figure size 432x288 with 4 Axes>"
      ]
     },
     "metadata": {
      "needs_background": "light"
     },
     "output_type": "display_data"
    },
    {
     "data": {
      "text/plain": [
       "'\\n# model : {\"additive\", \"multiplicative\"}-optional, Type of seasonal component. Abbreviations are accepted.\\n# tsa = Time Series analysis  \\n# seasonal_decompose = Seasonal decomposition using moving averages.'"
      ]
     },
     "execution_count": 26,
     "metadata": {},
     "output_type": "execute_result"
    }
   ],
   "source": [
    "from statsmodels.tsa.seasonal import seasonal_decompose   \n",
    "\n",
    "ts_add = seasonal_decompose(data1['Sales'],model=\"additive\")\n",
    "fig = ts_add.plot()\n",
    "plt.show()\n",
    "\n",
    "'''\n",
    "# model : {\"additive\", \"multiplicative\"}-optional, Type of seasonal component. Abbreviations are accepted.\n",
    "# tsa = Time Series analysis  \n",
    "# seasonal_decompose = Seasonal decomposition using moving averages.'''"
   ]
  },
  {
   "cell_type": "code",
   "execution_count": 27,
   "id": "6d52938b",
   "metadata": {},
   "outputs": [
    {
     "data": {
      "image/png": "[encoded data removed]",
      "text/plain": [
       "<Figure size 432x288 with 4 Axes>"
      ]
     },
     "metadata": {
      "needs_background": "light"
     },
     "output_type": "display_data"
    }
   ],
   "source": [
    "ts_add = seasonal_decompose(data1['N_sales'],model=\"additive\")\n",
    "fig = ts_add.plot()\n",
    "plt.show()"
   ]
  },
  {
   "cell_type": "code",
   "execution_count": 28,
   "id": "2f9def14",
   "metadata": {
    "scrolled": true
   },
   "outputs": [
    {
     "data": {
      "image/png": "[encoded data removed]",
      "text/plain": [
       "<Figure size 432x288 with 4 Axes>"
      ]
     },
     "metadata": {
      "needs_background": "light"
     },
     "output_type": "display_data"
    }
   ],
   "source": [
    "ts_add = seasonal_decompose(data1['Sales'],model=\"multiadditive\")\n",
    "fig = ts_add.plot()\n",
    "plt.show()"
   ]
  },
  {
   "cell_type": "code",
   "execution_count": 29,
   "id": "3d47a6c5",
   "metadata": {},
   "outputs": [
    {
     "data": {
      "image/png": "[encoded data removed]",
      "text/plain": [
       "<Figure size 432x288 with 4 Axes>"
      ]
     },
     "metadata": {
      "needs_background": "light"
     },
     "output_type": "display_data"
    }
   ],
   "source": [
    "ts_add = seasonal_decompose(data1['N_sales'],model=\"multiadditive\")\n",
    "fig = ts_add.plot()\n",
    "plt.show()"
   ]
  },
  {
   "cell_type": "raw",
   "id": "eb896008",
   "metadata": {},
   "source": [
    "The seasonal_decompose() function returns a result object. The result object contains arrays to access four pieces of data from the decomposition. For example, the snippet below shows how to decompose a series into trend, seasonal, and residual components assuming an additive model."
   ]
  },
  {
   "cell_type": "code",
   "execution_count": 30,
   "id": "4e8c5ea8",
   "metadata": {
    "scrolled": false
   },
   "outputs": [
    {
     "name": "stderr",
     "output_type": "stream",
     "text": [
      "C:\\Users\\Rishb\\anaconda3\\lib\\site-packages\\statsmodels\\graphics\\tsaplots.py:348: FutureWarning: The default method 'yw' can produce PACF values outside of the [-1,1] interval. After 0.13, the default will change tounadjusted Yule-Walker ('ywm'). You can use this method now by setting method='ywm'.\n",
      "  warnings.warn(\n"
     ]
    },
    {
     "data": {
      "image/png": "[encoded data removed]",
      "text/plain": [
       "<Figure size 432x288 with 1 Axes>"
      ]
     },
     "metadata": {
      "needs_background": "light"
     },
     "output_type": "display_data"
    },
    {
     "data": {
      "image/png": "[encoded data removed]",
      "text/plain": [
       "<Figure size 432x288 with 1 Axes>"
      ]
     },
     "metadata": {
      "needs_background": "light"
     },
     "output_type": "display_data"
    }
   ],
   "source": [
    "import statsmodels.graphics.tsaplots as tsa_plots\n",
    "tsa_plots.plot_acf(data1['Sales'])\n",
    "tsa_plots.plot_pacf(data1['Sales'])\n",
    "plt.show()"
   ]
  },
  {
   "cell_type": "code",
   "execution_count": 31,
   "id": "4a3fa970",
   "metadata": {
    "scrolled": true
   },
   "outputs": [
    {
     "name": "stderr",
     "output_type": "stream",
     "text": [
      "C:\\Users\\Rishb\\anaconda3\\lib\\site-packages\\statsmodels\\graphics\\tsaplots.py:348: FutureWarning: The default method 'yw' can produce PACF values outside of the [-1,1] interval. After 0.13, the default will change tounadjusted Yule-Walker ('ywm'). You can use this method now by setting method='ywm'.\n",
      "  warnings.warn(\n"
     ]
    },
    {
     "data": {
      "image/png": "[encoded data removed]",
      "text/plain": [
       "<Figure size 432x288 with 1 Axes>"
      ]
     },
     "metadata": {
      "needs_background": "light"
     },
     "output_type": "display_data"
    },
    {
     "data": {
      "image/png": "[encoded data removed]",
      "text/plain": [
       "<Figure size 432x288 with 1 Axes>"
      ]
     },
     "metadata": {
      "needs_background": "light"
     },
     "output_type": "display_data"
    }
   ],
   "source": [
    "tsa_plots.plot_acf(data1['N_sales'])\n",
    "tsa_plots.plot_pacf(data1['N_sales'])\n",
    "plt.show()"
   ]
  },
  {
   "cell_type": "raw",
   "id": "5b2e797d",
   "metadata": {},
   "source": [
    "# Graph of \"Sales\" and \"N_sales\" both are look similar beacuse  n_sales are log values of Sales"
   ]
  },
  {
   "cell_type": "code",
   "execution_count": 32,
   "id": "8cc76397",
   "metadata": {},
   "outputs": [],
   "source": [
    "import pandas as pd\n",
    "import numpy as np\n",
    "import matplotlib.pyplot as plt\n",
    "import seaborn as sns\n",
    "import statsmodels.api as sm\n",
    "from statsmodels.tsa.seasonal import seasonal_decompose\n",
    "from statsmodels.tsa.holtwinters import SimpleExpSmoothing\n",
    "from statsmodels.tsa.holtwinters import Holt\n",
    "from statsmodels.tsa.holtwinters import ExponentialSmoothing\n",
    "import statsmodels.graphics.tsaplots as tsa_plots\n",
    "import statsmodels.tsa.statespace as tm_models\n",
    "from datetime import datetime,time\n",
    "import warnings\n",
    "import itertools\n",
    "import matplotlib.pyplot as plt\n",
    "warnings.filterwarnings(\"ignore\")\n",
    "plt.style.use('fivethirtyeight')\n",
    "from pylab import rcParams\n",
    "from matplotlib import pyplot\n",
    "from sklearn.metrics import mean_squared_error\n",
    "import statsmodels.formula.api as smf"
   ]
  },
  {
   "cell_type": "code",
   "execution_count": 33,
   "id": "6fa96c9f",
   "metadata": {},
   "outputs": [],
   "source": [
    "from statsmodels.tsa.arima.model import ARIMA, ARIMAResults"
   ]
  },
  {
   "cell_type": "markdown",
   "id": "ee808e05",
   "metadata": {},
   "source": [
    "# (1) Building Time series forecasting with ARIMA"
   ]
  },
  {
   "cell_type": "code",
   "execution_count": 34,
   "id": "d45f6426",
   "metadata": {},
   "outputs": [],
   "source": [
    "X = data1['N_sales'].values"
   ]
  },
  {
   "cell_type": "code",
   "execution_count": 35,
   "id": "686091f3",
   "metadata": {},
   "outputs": [
    {
     "data": {
      "text/plain": [
       "array([7.45866298, 7.71644343, 7.8374774 , 7.67552883, 7.34460212,\n",
       "       7.65179137, 7.60805829, 7.59676742, 7.53318556, 7.74657386,\n",
       "       7.66308821, 7.61422778, 7.5551747 , 7.75412342, 7.69918549,\n",
       "       7.68430935, 7.67242187, 7.91546061, 7.93478348, 7.84620273,\n",
       "       7.8164065 , 8.01945587, 8.06215415, 7.96519864, 7.92732436,\n",
       "       8.17470288, 8.16280135, 8.08451926, 8.02486215, 8.26847539,\n",
       "       8.19671241, 8.12355784, 8.11731246, 8.37609035, 8.40312824,\n",
       "       8.29829063, 8.25686685, 8.50431057, 8.49596955, 8.37401542,\n",
       "       8.34141021, 8.56655462])"
      ]
     },
     "execution_count": 35,
     "metadata": {},
     "output_type": "execute_result"
    }
   ],
   "source": [
    "X"
   ]
  },
  {
   "cell_type": "code",
   "execution_count": 36,
   "id": "a3ad2092",
   "metadata": {},
   "outputs": [],
   "source": [
    "size = int(len(X) * 0.66)"
   ]
  },
  {
   "cell_type": "code",
   "execution_count": 37,
   "id": "e5231fd9",
   "metadata": {},
   "outputs": [],
   "source": [
    "train, test = X[0:size], X[size:len(X)]"
   ]
  },
  {
   "cell_type": "code",
   "execution_count": 38,
   "id": "859b4b8c",
   "metadata": {},
   "outputs": [],
   "source": [
    "from statsmodels.tsa.arima.model import ARIMA"
   ]
  },
  {
   "cell_type": "code",
   "execution_count": 39,
   "id": "896213b1",
   "metadata": {},
   "outputs": [],
   "source": [
    "# (from statsmodels.tsa.arima_model import ARIMA ) this is older library formate\n",
    "\n",
    "model= ARIMA(train, order=(5,1,0))"
   ]
  },
  {
   "cell_type": "code",
   "execution_count": 40,
   "id": "7305585b",
   "metadata": {},
   "outputs": [],
   "source": [
    "model_fit = model.fit()"
   ]
  },
  {
   "cell_type": "code",
   "execution_count": 41,
   "id": "12af2e61",
   "metadata": {},
   "outputs": [
    {
     "name": "stdout",
     "output_type": "stream",
     "text": [
      "                               SARIMAX Results                                \n",
      "==============================================================================\n",
      "Dep. Variable:                      y   No. Observations:                   27\n",
      "Model:                 ARIMA(5, 1, 0)   Log Likelihood                  27.706\n",
      "Date:                Thu, 15 Sep 2022   AIC                            -43.411\n",
      "Time:                        22:27:28   BIC                            -35.862\n",
      "Sample:                             0   HQIC                           -41.237\n",
      "                                 - 27                                         \n",
      "Covariance Type:                  opg                                         \n",
      "==============================================================================\n",
      "                 coef    std err          z      P>|z|      [0.025      0.975]\n",
      "------------------------------------------------------------------------------\n",
      "ar.L1         -0.1673      0.298     -0.562      0.574      -0.751       0.417\n",
      "ar.L2         -0.2431      0.174     -1.400      0.162      -0.583       0.097\n",
      "ar.L3         -0.1120      0.174     -0.644      0.520      -0.453       0.229\n",
      "ar.L4          0.6891      0.140      4.918      0.000       0.414       0.964\n",
      "ar.L5         -0.1242      0.290     -0.429      0.668      -0.692       0.443\n",
      "sigma2         0.0056      0.002      2.887      0.004       0.002       0.009\n",
      "===================================================================================\n",
      "Ljung-Box (L1) (Q):                   0.00   Jarque-Bera (JB):                 0.51\n",
      "Prob(Q):                              0.96   Prob(JB):                         0.77\n",
      "Heteroskedasticity (H):               0.25   Skew:                            -0.30\n",
      "Prob(H) (two-sided):                  0.05   Kurtosis:                         3.34\n",
      "===================================================================================\n",
      "\n",
      "Warnings:\n",
      "[1] Covariance matrix calculated using the outer product of gradients (complex-step).\n"
     ]
    }
   ],
   "source": [
    "print(model_fit.summary())"
   ]
  },
  {
   "cell_type": "raw",
   "id": "5c39409a",
   "metadata": {},
   "source": [
    "This summarizes the coefficient values used as well as the skill of the fit on the on the in-sample observations"
   ]
  },
  {
   "cell_type": "code",
   "execution_count": 42,
   "id": "b633cfa5",
   "metadata": {},
   "outputs": [
    {
     "data": {
      "image/png": "[encoded data removed]",
      "text/plain": [
       "<Figure size 432x288 with 1 Axes>"
      ]
     },
     "metadata": {},
     "output_type": "display_data"
    },
    {
     "data": {
      "image/png": "[encoded data removed]",
      "text/plain": [
       "<Figure size 432x288 with 1 Axes>"
      ]
     },
     "metadata": {},
     "output_type": "display_data"
    }
   ],
   "source": [
    "# Calculate residuals and plot it\n",
    "\n",
    "residual = pd.DataFrame(model_fit.resid)\n",
    "residual.plot()\n",
    "pyplot.show()\n",
    "residual.plot(kind='kde')\n",
    "pyplot.show()"
   ]
  },
  {
   "cell_type": "code",
   "execution_count": 43,
   "id": "c841244e",
   "metadata": {},
   "outputs": [
    {
     "data": {
      "text/html": [
       "<div>\n",
       "<style scoped>\n",
       "    .dataframe tbody tr th:only-of-type {\n",
       "        vertical-align: middle;\n",
       "    }\n",
       "\n",
       "    .dataframe tbody tr th {\n",
       "        vertical-align: top;\n",
       "    }\n",
       "\n",
       "    .dataframe thead th {\n",
       "        text-align: right;\n",
       "    }\n",
       "</style>\n",
       "<table border=\"1\" class=\"dataframe\">\n",
       "  <thead>\n",
       "    <tr style=\"text-align: right;\">\n",
       "      <th></th>\n",
       "      <th>0</th>\n",
       "    </tr>\n",
       "  </thead>\n",
       "  <tbody>\n",
       "    <tr>\n",
       "      <th>count</th>\n",
       "      <td>27.000000</td>\n",
       "    </tr>\n",
       "    <tr>\n",
       "      <th>mean</th>\n",
       "      <td>0.307413</td>\n",
       "    </tr>\n",
       "    <tr>\n",
       "      <th>std</th>\n",
       "      <td>1.432122</td>\n",
       "    </tr>\n",
       "    <tr>\n",
       "      <th>min</th>\n",
       "      <td>-0.192758</td>\n",
       "    </tr>\n",
       "    <tr>\n",
       "      <th>25%</th>\n",
       "      <td>-0.008904</td>\n",
       "    </tr>\n",
       "    <tr>\n",
       "      <th>50%</th>\n",
       "      <td>0.019650</td>\n",
       "    </tr>\n",
       "    <tr>\n",
       "      <th>75%</th>\n",
       "      <td>0.082742</td>\n",
       "    </tr>\n",
       "    <tr>\n",
       "      <th>max</th>\n",
       "      <td>7.458663</td>\n",
       "    </tr>\n",
       "  </tbody>\n",
       "</table>\n",
       "</div>"
      ],
      "text/plain": [
       "               0\n",
       "count  27.000000\n",
       "mean    0.307413\n",
       "std     1.432122\n",
       "min    -0.192758\n",
       "25%    -0.008904\n",
       "50%     0.019650\n",
       "75%     0.082742\n",
       "max     7.458663"
      ]
     },
     "execution_count": 43,
     "metadata": {},
     "output_type": "execute_result"
    }
   ],
   "source": [
    "residual.describe()"
   ]
  },
  {
   "cell_type": "markdown",
   "id": "9f2d8a27",
   "metadata": {},
   "source": [
    "##### The plot of the residual errors suggests that there may still be some trend information not captured by the model\n",
    "##### The results show that indeed there is a bias in the prediction (a non-zero mean in the residuals"
   ]
  },
  {
   "cell_type": "markdown",
   "id": "d3d9effc",
   "metadata": {},
   "source": [
    "### (1.1) - Rolling Forecast ARIMA Model"
   ]
  },
  {
   "cell_type": "code",
   "execution_count": 44,
   "id": "6297d7d8",
   "metadata": {},
   "outputs": [],
   "source": [
    "history = [x for x in train]"
   ]
  },
  {
   "cell_type": "code",
   "execution_count": 45,
   "id": "ec1879c6",
   "metadata": {},
   "outputs": [],
   "source": [
    "predictions = list()"
   ]
  },
  {
   "cell_type": "code",
   "execution_count": 46,
   "id": "675bb91f",
   "metadata": {},
   "outputs": [
    {
     "name": "stdout",
     "output_type": "stream",
     "text": [
      "predictions=8.036784, expected=8.084519\n",
      "predictions=8.059881, expected=8.024862\n",
      "predictions=8.232283, expected=8.268475\n",
      "predictions=8.215372, expected=8.196712\n",
      "predictions=8.106373, expected=8.123558\n",
      "predictions=8.091395, expected=8.117312\n",
      "predictions=8.323982, expected=8.376090\n",
      "predictions=8.261851, expected=8.403128\n",
      "predictions=8.301033, expected=8.298291\n",
      "predictions=8.287072, expected=8.256867\n",
      "predictions=8.474431, expected=8.504311\n",
      "predictions=8.490370, expected=8.495970\n",
      "predictions=8.372242, expected=8.374015\n",
      "predictions=8.345850, expected=8.341410\n",
      "predictions=8.561879, expected=8.566555\n"
     ]
    }
   ],
   "source": [
    "for t in range(len(test)):\n",
    "    model1 = ARIMA(history, order=(5,1,0))\n",
    "    model1_fit = model1.fit()\n",
    "    output = model1_fit.forecast()\n",
    "    yhat = output[0]\n",
    "    predictions.append(yhat)\n",
    "    obs = test[t]\n",
    "    history.append(obs)\n",
    "    print('predictions=%f, expected=%f' % (yhat, obs))"
   ]
  },
  {
   "cell_type": "code",
   "execution_count": 47,
   "id": "7190f0c4",
   "metadata": {},
   "outputs": [
    {
     "name": "stdout",
     "output_type": "stream",
     "text": [
      "Test MSE: 0.002\n"
     ]
    }
   ],
   "source": [
    "Errors = mean_squared_error(test, predictions)\n",
    "print('Test MSE: %.3f' % Errors)"
   ]
  },
  {
   "cell_type": "code",
   "execution_count": 48,
   "id": "769a6f48",
   "metadata": {},
   "outputs": [
    {
     "data": {
      "image/png": "[encoded data removed]",
      "text/plain": [
       "<Figure size 432x288 with 1 Axes>"
      ]
     },
     "metadata": {},
     "output_type": "display_data"
    }
   ],
   "source": [
    "plt.plot(test)\n",
    "plt.plot(predictions, color='black')\n",
    "plt.show()"
   ]
  },
  {
   "cell_type": "markdown",
   "id": "db22921a",
   "metadata": {},
   "source": [
    "##### A line plot is created showing the expected values (blue) compared to the rolling forecast predictions (red). We can see the values show some trend and are in the correct scale."
   ]
  },
  {
   "cell_type": "markdown",
   "id": "69bdf63c",
   "metadata": {},
   "source": [
    "### (2) Comaring Multiple models"
   ]
  },
  {
   "cell_type": "code",
   "execution_count": 55,
   "id": "93917fbe",
   "metadata": {},
   "outputs": [],
   "source": [
    "df2 = pd.get_dummies(data, columns = ['Quarter'])"
   ]
  },
  {
   "cell_type": "code",
   "execution_count": 56,
   "id": "5735f48b",
   "metadata": {},
   "outputs": [],
   "source": [
    "df2.columns = ['Sales','Q1','Q1','Q1','Q1','Q1','Q1','Q1','Q1','Q1','Q1','Q1','Q2','Q2','Q2','Q2','Q2','Q2','Q2','Q2','Q2','Q2','Q2','Q3','Q3','Q3','Q3','Q3','Q3','Q3','Q3','Q3','Q3','Q4','Q4','Q4','Q4','Q4','Q4','Q4','Q4','Q4','Q4']\n"
   ]
  },
  {
   "cell_type": "code",
   "execution_count": 57,
   "id": "ac7bead6",
   "metadata": {},
   "outputs": [
    {
     "data": {
      "text/html": [
       "<div>\n",
       "<style scoped>\n",
       "    .dataframe tbody tr th:only-of-type {\n",
       "        vertical-align: middle;\n",
       "    }\n",
       "\n",
       "    .dataframe tbody tr th {\n",
       "        vertical-align: top;\n",
       "    }\n",
       "\n",
       "    .dataframe thead th {\n",
       "        text-align: right;\n",
       "    }\n",
       "</style>\n",
       "<table border=\"1\" class=\"dataframe\">\n",
       "  <thead>\n",
       "    <tr style=\"text-align: right;\">\n",
       "      <th></th>\n",
       "      <th>Sales</th>\n",
       "      <th>Q1</th>\n",
       "      <th>Q1</th>\n",
       "      <th>Q1</th>\n",
       "      <th>Q1</th>\n",
       "      <th>Q1</th>\n",
       "      <th>Q1</th>\n",
       "      <th>Q1</th>\n",
       "      <th>Q1</th>\n",
       "      <th>Q1</th>\n",
       "      <th>...</th>\n",
       "      <th>Q4</th>\n",
       "      <th>Q4</th>\n",
       "      <th>Q4</th>\n",
       "      <th>Q4</th>\n",
       "      <th>Q4</th>\n",
       "      <th>Q4</th>\n",
       "      <th>Q4</th>\n",
       "      <th>Q4</th>\n",
       "      <th>Q4</th>\n",
       "      <th>Q4</th>\n",
       "    </tr>\n",
       "  </thead>\n",
       "  <tbody>\n",
       "    <tr>\n",
       "      <th>0</th>\n",
       "      <td>1734.827000</td>\n",
       "      <td>1</td>\n",
       "      <td>0</td>\n",
       "      <td>0</td>\n",
       "      <td>0</td>\n",
       "      <td>0</td>\n",
       "      <td>0</td>\n",
       "      <td>0</td>\n",
       "      <td>0</td>\n",
       "      <td>0</td>\n",
       "      <td>...</td>\n",
       "      <td>0</td>\n",
       "      <td>0</td>\n",
       "      <td>0</td>\n",
       "      <td>0</td>\n",
       "      <td>0</td>\n",
       "      <td>0</td>\n",
       "      <td>0</td>\n",
       "      <td>0</td>\n",
       "      <td>0</td>\n",
       "      <td>0</td>\n",
       "    </tr>\n",
       "    <tr>\n",
       "      <th>1</th>\n",
       "      <td>2244.960999</td>\n",
       "      <td>0</td>\n",
       "      <td>0</td>\n",
       "      <td>0</td>\n",
       "      <td>0</td>\n",
       "      <td>0</td>\n",
       "      <td>0</td>\n",
       "      <td>0</td>\n",
       "      <td>0</td>\n",
       "      <td>0</td>\n",
       "      <td>...</td>\n",
       "      <td>0</td>\n",
       "      <td>0</td>\n",
       "      <td>0</td>\n",
       "      <td>0</td>\n",
       "      <td>0</td>\n",
       "      <td>0</td>\n",
       "      <td>0</td>\n",
       "      <td>0</td>\n",
       "      <td>0</td>\n",
       "      <td>0</td>\n",
       "    </tr>\n",
       "    <tr>\n",
       "      <th>2</th>\n",
       "      <td>2533.804993</td>\n",
       "      <td>0</td>\n",
       "      <td>0</td>\n",
       "      <td>0</td>\n",
       "      <td>0</td>\n",
       "      <td>0</td>\n",
       "      <td>0</td>\n",
       "      <td>0</td>\n",
       "      <td>0</td>\n",
       "      <td>0</td>\n",
       "      <td>...</td>\n",
       "      <td>0</td>\n",
       "      <td>0</td>\n",
       "      <td>0</td>\n",
       "      <td>0</td>\n",
       "      <td>0</td>\n",
       "      <td>0</td>\n",
       "      <td>0</td>\n",
       "      <td>0</td>\n",
       "      <td>0</td>\n",
       "      <td>0</td>\n",
       "    </tr>\n",
       "    <tr>\n",
       "      <th>3</th>\n",
       "      <td>2154.962997</td>\n",
       "      <td>0</td>\n",
       "      <td>0</td>\n",
       "      <td>0</td>\n",
       "      <td>0</td>\n",
       "      <td>0</td>\n",
       "      <td>0</td>\n",
       "      <td>0</td>\n",
       "      <td>0</td>\n",
       "      <td>0</td>\n",
       "      <td>...</td>\n",
       "      <td>1</td>\n",
       "      <td>0</td>\n",
       "      <td>0</td>\n",
       "      <td>0</td>\n",
       "      <td>0</td>\n",
       "      <td>0</td>\n",
       "      <td>0</td>\n",
       "      <td>0</td>\n",
       "      <td>0</td>\n",
       "      <td>0</td>\n",
       "    </tr>\n",
       "    <tr>\n",
       "      <th>4</th>\n",
       "      <td>1547.818996</td>\n",
       "      <td>0</td>\n",
       "      <td>1</td>\n",
       "      <td>0</td>\n",
       "      <td>0</td>\n",
       "      <td>0</td>\n",
       "      <td>0</td>\n",
       "      <td>0</td>\n",
       "      <td>0</td>\n",
       "      <td>0</td>\n",
       "      <td>...</td>\n",
       "      <td>0</td>\n",
       "      <td>0</td>\n",
       "      <td>0</td>\n",
       "      <td>0</td>\n",
       "      <td>0</td>\n",
       "      <td>0</td>\n",
       "      <td>0</td>\n",
       "      <td>0</td>\n",
       "      <td>0</td>\n",
       "      <td>0</td>\n",
       "    </tr>\n",
       "  </tbody>\n",
       "</table>\n",
       "<p>5 rows × 43 columns</p>\n",
       "</div>"
      ],
      "text/plain": [
       "         Sales  Q1  Q1  Q1  Q1  Q1  Q1  Q1  Q1  Q1  ...  Q4  Q4  Q4  Q4  Q4  \\\n",
       "0  1734.827000   1   0   0   0   0   0   0   0   0  ...   0   0   0   0   0   \n",
       "1  2244.960999   0   0   0   0   0   0   0   0   0  ...   0   0   0   0   0   \n",
       "2  2533.804993   0   0   0   0   0   0   0   0   0  ...   0   0   0   0   0   \n",
       "3  2154.962997   0   0   0   0   0   0   0   0   0  ...   1   0   0   0   0   \n",
       "4  1547.818996   0   1   0   0   0   0   0   0   0  ...   0   0   0   0   0   \n",
       "\n",
       "   Q4  Q4  Q4  Q4  Q4  \n",
       "0   0   0   0   0   0  \n",
       "1   0   0   0   0   0  \n",
       "2   0   0   0   0   0  \n",
       "3   0   0   0   0   0  \n",
       "4   0   0   0   0   0  \n",
       "\n",
       "[5 rows x 43 columns]"
      ]
     },
     "execution_count": 57,
     "metadata": {},
     "output_type": "execute_result"
    }
   ],
   "source": [
    "df2.head()"
   ]
  },
  {
   "cell_type": "code",
   "execution_count": 58,
   "id": "c385577b",
   "metadata": {},
   "outputs": [],
   "source": [
    "t = np.arange(1,43)"
   ]
  },
  {
   "cell_type": "code",
   "execution_count": 59,
   "id": "121db6cf",
   "metadata": {},
   "outputs": [],
   "source": [
    "df2['t'] = t"
   ]
  },
  {
   "cell_type": "code",
   "execution_count": 61,
   "id": "82fc2c86",
   "metadata": {},
   "outputs": [],
   "source": [
    "df2['t_sq'] = df2['t'] * df2['t']  # doing square"
   ]
  },
  {
   "cell_type": "code",
   "execution_count": 62,
   "id": "07cf2a46",
   "metadata": {},
   "outputs": [],
   "source": [
    "log_Sales = np.log(df2['Sales'])  # doing Log"
   ]
  },
  {
   "cell_type": "code",
   "execution_count": 63,
   "id": "96228c22",
   "metadata": {},
   "outputs": [],
   "source": [
    "df2['log_Sales'] = log_Sales"
   ]
  },
  {
   "cell_type": "code",
   "execution_count": 64,
   "id": "674ffccd",
   "metadata": {},
   "outputs": [
    {
     "data": {
      "text/html": [
       "<div>\n",
       "<style scoped>\n",
       "    .dataframe tbody tr th:only-of-type {\n",
       "        vertical-align: middle;\n",
       "    }\n",
       "\n",
       "    .dataframe tbody tr th {\n",
       "        vertical-align: top;\n",
       "    }\n",
       "\n",
       "    .dataframe thead th {\n",
       "        text-align: right;\n",
       "    }\n",
       "</style>\n",
       "<table border=\"1\" class=\"dataframe\">\n",
       "  <thead>\n",
       "    <tr style=\"text-align: right;\">\n",
       "      <th></th>\n",
       "      <th>Sales</th>\n",
       "      <th>Q1</th>\n",
       "      <th>Q1</th>\n",
       "      <th>Q1</th>\n",
       "      <th>Q1</th>\n",
       "      <th>Q1</th>\n",
       "      <th>Q1</th>\n",
       "      <th>Q1</th>\n",
       "      <th>Q1</th>\n",
       "      <th>Q1</th>\n",
       "      <th>...</th>\n",
       "      <th>Q4</th>\n",
       "      <th>Q4</th>\n",
       "      <th>Q4</th>\n",
       "      <th>Q4</th>\n",
       "      <th>Q4</th>\n",
       "      <th>Q4</th>\n",
       "      <th>Q4</th>\n",
       "      <th>t</th>\n",
       "      <th>t_sq</th>\n",
       "      <th>log_Sales</th>\n",
       "    </tr>\n",
       "  </thead>\n",
       "  <tbody>\n",
       "    <tr>\n",
       "      <th>0</th>\n",
       "      <td>1734.827000</td>\n",
       "      <td>1</td>\n",
       "      <td>0</td>\n",
       "      <td>0</td>\n",
       "      <td>0</td>\n",
       "      <td>0</td>\n",
       "      <td>0</td>\n",
       "      <td>0</td>\n",
       "      <td>0</td>\n",
       "      <td>0</td>\n",
       "      <td>...</td>\n",
       "      <td>0</td>\n",
       "      <td>0</td>\n",
       "      <td>0</td>\n",
       "      <td>0</td>\n",
       "      <td>0</td>\n",
       "      <td>0</td>\n",
       "      <td>0</td>\n",
       "      <td>1</td>\n",
       "      <td>1</td>\n",
       "      <td>7.458663</td>\n",
       "    </tr>\n",
       "    <tr>\n",
       "      <th>1</th>\n",
       "      <td>2244.960999</td>\n",
       "      <td>0</td>\n",
       "      <td>0</td>\n",
       "      <td>0</td>\n",
       "      <td>0</td>\n",
       "      <td>0</td>\n",
       "      <td>0</td>\n",
       "      <td>0</td>\n",
       "      <td>0</td>\n",
       "      <td>0</td>\n",
       "      <td>...</td>\n",
       "      <td>0</td>\n",
       "      <td>0</td>\n",
       "      <td>0</td>\n",
       "      <td>0</td>\n",
       "      <td>0</td>\n",
       "      <td>0</td>\n",
       "      <td>0</td>\n",
       "      <td>2</td>\n",
       "      <td>4</td>\n",
       "      <td>7.716443</td>\n",
       "    </tr>\n",
       "    <tr>\n",
       "      <th>2</th>\n",
       "      <td>2533.804993</td>\n",
       "      <td>0</td>\n",
       "      <td>0</td>\n",
       "      <td>0</td>\n",
       "      <td>0</td>\n",
       "      <td>0</td>\n",
       "      <td>0</td>\n",
       "      <td>0</td>\n",
       "      <td>0</td>\n",
       "      <td>0</td>\n",
       "      <td>...</td>\n",
       "      <td>0</td>\n",
       "      <td>0</td>\n",
       "      <td>0</td>\n",
       "      <td>0</td>\n",
       "      <td>0</td>\n",
       "      <td>0</td>\n",
       "      <td>0</td>\n",
       "      <td>3</td>\n",
       "      <td>9</td>\n",
       "      <td>7.837477</td>\n",
       "    </tr>\n",
       "    <tr>\n",
       "      <th>3</th>\n",
       "      <td>2154.962997</td>\n",
       "      <td>0</td>\n",
       "      <td>0</td>\n",
       "      <td>0</td>\n",
       "      <td>0</td>\n",
       "      <td>0</td>\n",
       "      <td>0</td>\n",
       "      <td>0</td>\n",
       "      <td>0</td>\n",
       "      <td>0</td>\n",
       "      <td>...</td>\n",
       "      <td>0</td>\n",
       "      <td>0</td>\n",
       "      <td>0</td>\n",
       "      <td>0</td>\n",
       "      <td>0</td>\n",
       "      <td>0</td>\n",
       "      <td>0</td>\n",
       "      <td>4</td>\n",
       "      <td>16</td>\n",
       "      <td>7.675529</td>\n",
       "    </tr>\n",
       "    <tr>\n",
       "      <th>4</th>\n",
       "      <td>1547.818996</td>\n",
       "      <td>0</td>\n",
       "      <td>1</td>\n",
       "      <td>0</td>\n",
       "      <td>0</td>\n",
       "      <td>0</td>\n",
       "      <td>0</td>\n",
       "      <td>0</td>\n",
       "      <td>0</td>\n",
       "      <td>0</td>\n",
       "      <td>...</td>\n",
       "      <td>0</td>\n",
       "      <td>0</td>\n",
       "      <td>0</td>\n",
       "      <td>0</td>\n",
       "      <td>0</td>\n",
       "      <td>0</td>\n",
       "      <td>0</td>\n",
       "      <td>5</td>\n",
       "      <td>25</td>\n",
       "      <td>7.344602</td>\n",
       "    </tr>\n",
       "  </tbody>\n",
       "</table>\n",
       "<p>5 rows × 46 columns</p>\n",
       "</div>"
      ],
      "text/plain": [
       "         Sales  Q1  Q1  Q1  Q1  Q1  Q1  Q1  Q1  Q1  ...  Q4  Q4  Q4  Q4  Q4  \\\n",
       "0  1734.827000   1   0   0   0   0   0   0   0   0  ...   0   0   0   0   0   \n",
       "1  2244.960999   0   0   0   0   0   0   0   0   0  ...   0   0   0   0   0   \n",
       "2  2533.804993   0   0   0   0   0   0   0   0   0  ...   0   0   0   0   0   \n",
       "3  2154.962997   0   0   0   0   0   0   0   0   0  ...   0   0   0   0   0   \n",
       "4  1547.818996   0   1   0   0   0   0   0   0   0  ...   0   0   0   0   0   \n",
       "\n",
       "   Q4  Q4  t  t_sq  log_Sales  \n",
       "0   0   0  1     1   7.458663  \n",
       "1   0   0  2     4   7.716443  \n",
       "2   0   0  3     9   7.837477  \n",
       "3   0   0  4    16   7.675529  \n",
       "4   0   0  5    25   7.344602  \n",
       "\n",
       "[5 rows x 46 columns]"
      ]
     },
     "execution_count": 64,
     "metadata": {},
     "output_type": "execute_result"
    }
   ],
   "source": [
    "df2.head()"
   ]
  },
  {
   "cell_type": "code",
   "execution_count": 65,
   "id": "060a6bf1",
   "metadata": {},
   "outputs": [],
   "source": [
    "train1, test1 = np.split(df2, [int(len(data1)*0.67)])"
   ]
  },
  {
   "cell_type": "markdown",
   "id": "92de200a",
   "metadata": {},
   "source": [
    "#### Making Different seasonality Model"
   ]
  },
  {
   "cell_type": "code",
   "execution_count": 66,
   "id": "75e4ff7c",
   "metadata": {},
   "outputs": [
    {
     "data": {
      "text/plain": [
       "580.1224130918637"
      ]
     },
     "execution_count": 66,
     "metadata": {},
     "output_type": "execute_result"
    }
   ],
   "source": [
    "# Making Linear Model\n",
    "lin = smf.ols('Sales~t',data=train1).fit()\n",
    "pred_lin = pd.Series(lin.predict(pd.DataFrame(test1['t'])))\n",
    "rmse_lin = np.sqrt((np.mean(np.array(test1['Sales'])-np.array(pred_lin))**2))\n",
    "rmse_lin"
   ]
  },
  {
   "cell_type": "code",
   "execution_count": 67,
   "id": "e9dadc19",
   "metadata": {},
   "outputs": [
    {
     "data": {
      "text/plain": [
       "783.7297975037425"
      ]
     },
     "execution_count": 67,
     "metadata": {},
     "output_type": "execute_result"
    }
   ],
   "source": [
    "quad=smf.ols('Sales~t+t_sq',data=train1).fit()\n",
    "pred_quad=pd.Series(quad.predict(pd.DataFrame(test1[['t','t_sq']])))\n",
    "rmse_quad=np.sqrt(np.mean((np.array(test1['Sales'])-np.array(pred_quad))**2))\n",
    "rmse_quad"
   ]
  },
  {
   "cell_type": "code",
   "execution_count": 68,
   "id": "aec0c698",
   "metadata": {},
   "outputs": [
    {
     "data": {
      "text/plain": [
       "588.1405104900183"
      ]
     },
     "execution_count": 68,
     "metadata": {},
     "output_type": "execute_result"
    }
   ],
   "source": [
    "expo=smf.ols('log_Sales~t',data=train1).fit()\n",
    "pred_exp=pd.Series(expo.predict(pd.DataFrame(test1['t'])))\n",
    "rmse_expo=np.sqrt(np.mean((np.array(test1['Sales'])-np.array(np.exp(pred_exp)))**2))\n",
    "rmse_expo"
   ]
  },
  {
   "cell_type": "code",
   "execution_count": 69,
   "id": "6bcc0c69",
   "metadata": {},
   "outputs": [
    {
     "data": {
      "text/plain": [
       "1869.7188209186954"
      ]
     },
     "execution_count": 69,
     "metadata": {},
     "output_type": "execute_result"
    }
   ],
   "source": [
    "additive= smf.ols('Sales~ Q1+Q2+Q3+Q4',data=train1).fit()\n",
    "pred_add=pd.Series(additive.predict(pd.DataFrame(test1[['Q1','Q2','Q3','Q4']])))\n",
    "rmse_add=np.sqrt(np.mean((np.array(test1['Sales'])-np.array(pred_add))**2))\n",
    "rmse_add"
   ]
  },
  {
   "cell_type": "code",
   "execution_count": 70,
   "id": "9d0a3d0c",
   "metadata": {},
   "outputs": [
    {
     "data": {
      "text/plain": [
       "596.1526282372528"
      ]
     },
     "execution_count": 70,
     "metadata": {},
     "output_type": "execute_result"
    }
   ],
   "source": [
    "addlinear= smf.ols('Sales~t+Q1+Q2+Q3+Q4',data=train1).fit()\n",
    "pred_add_linear=pd.Series(addlinear.predict(pd.DataFrame(test1[['t','Q1','Q2','Q3','Q4']])))\n",
    "rmse_add_linear=np.sqrt(np.mean((np.array(test1['Sales'])-np.array(pred_add_linear))**2))\n",
    "rmse_add_linear"
   ]
  },
  {
   "cell_type": "code",
   "execution_count": 71,
   "id": "0ffce06d",
   "metadata": {},
   "outputs": [
    {
     "data": {
      "text/plain": [
       "412.114443605461"
      ]
     },
     "execution_count": 71,
     "metadata": {},
     "output_type": "execute_result"
    }
   ],
   "source": [
    "addquad=smf.ols('Sales~t+t_sq+Q1+Q2+Q3+Q4',data=train1).fit()\n",
    "pred_add_quad=pd.Series(addquad.predict(pd.DataFrame(test1[['t','t_sq','Q1','Q2','Q3','Q4']])))\n",
    "rmse_add_quad=np.sqrt(np.mean((np.array(test1['Sales'])-np.array(pred_add_quad))**2))\n",
    "rmse_add_quad"
   ]
  },
  {
   "cell_type": "code",
   "execution_count": 72,
   "id": "3f2b4a02",
   "metadata": {},
   "outputs": [
    {
     "data": {
      "text/plain": [
       "2374.919440795444"
      ]
     },
     "execution_count": 72,
     "metadata": {},
     "output_type": "execute_result"
    }
   ],
   "source": [
    "mulsea=smf.ols('log_Sales~Q1+Q2+Q3+Q4',data=train1).fit()\n",
    "pred_mul= pd.Series(mulsea.predict(pd.DataFrame(test1[['Q1','Q2','Q3','Q4']])))\n",
    "rmse_mul= np.sqrt(np.mean((np.array(test1['Sales'])-np.array(np.exp(pred_mul)))**2))\n",
    "rmse_mul"
   ]
  },
  {
   "cell_type": "code",
   "execution_count": 73,
   "id": "a2dedbec",
   "metadata": {},
   "outputs": [
    {
     "data": {
      "text/plain": [
       "5359.687911931751"
      ]
     },
     "execution_count": 73,
     "metadata": {},
     "output_type": "execute_result"
    }
   ],
   "source": [
    "mul_lin= smf.ols('log_Sales~t+Q1+Q2+Q3+Q4',data=train1).fit()\n",
    "pred_mul_lin= pd.Series(mul_lin.predict(pd.DataFrame(test1[['t','Q1','Q2','Q3','Q4']])))\n",
    "rmse_mul_lin=np.sqrt(np.mean((np.array(test1['Sales'])-np.array(np.exp(pred_mul_lin)))**2))\n",
    "rmse_mul_lin"
   ]
  },
  {
   "cell_type": "code",
   "execution_count": 74,
   "id": "2f87820e",
   "metadata": {},
   "outputs": [
    {
     "data": {
      "text/plain": [
       "3630.5619467352553"
      ]
     },
     "execution_count": 74,
     "metadata": {},
     "output_type": "execute_result"
    }
   ],
   "source": [
    "mul_quad= smf.ols('log_Sales~t+t_sq+Q1+Q2+Q3+Q4',data=train1).fit()\n",
    "pred_mul_quad= pd.Series(mul_quad.predict(test1[['t','t_sq','Q1','Q2','Q3','Q4']]))\n",
    "rmse_mul_quad=np.sqrt(np.mean((np.array(test1['Sales'])-np.array(np.exp(pred_mul_quad)))**2))\n",
    "rmse_mul_quad"
   ]
  },
  {
   "cell_type": "markdown",
   "id": "3d948727",
   "metadata": {},
   "source": [
    "### Conclusion of Different  Seasonality models"
   ]
  },
  {
   "cell_type": "code",
   "execution_count": 75,
   "id": "54e5b392",
   "metadata": {},
   "outputs": [],
   "source": [
    "output = {'Model':pd.Series(['rmse_mul_quad',\n",
    "                             'rmse_add',\n",
    "                             'rmse_add_linear',\n",
    "                             'rmse_add_quad',\n",
    "                             'rmse_expo',\n",
    "                             'rmse_lin',\n",
    "                             'rmse_mul',\n",
    "                             'rmse_mul_lin',\n",
    "                             'rmse_quad']),\n",
    "          'Values':pd.Series([rmse_mul_quad,\n",
    "                             rmse_add,\n",
    "                             rmse_add_linear,\n",
    "                             rmse_add_quad,\n",
    "                             rmse_expo,\n",
    "                             rmse_lin,\n",
    "                             rmse_mul,\n",
    "                             rmse_mul_lin,\n",
    "                             rmse_quad])}"
   ]
  },
  {
   "cell_type": "code",
   "execution_count": 76,
   "id": "c0e0abed",
   "metadata": {},
   "outputs": [],
   "source": [
    "rmse=pd.DataFrame(output)"
   ]
  },
  {
   "cell_type": "code",
   "execution_count": 77,
   "id": "4aee9cfd",
   "metadata": {},
   "outputs": [
    {
     "data": {
      "text/html": [
       "<div>\n",
       "<style scoped>\n",
       "    .dataframe tbody tr th:only-of-type {\n",
       "        vertical-align: middle;\n",
       "    }\n",
       "\n",
       "    .dataframe tbody tr th {\n",
       "        vertical-align: top;\n",
       "    }\n",
       "\n",
       "    .dataframe thead th {\n",
       "        text-align: right;\n",
       "    }\n",
       "</style>\n",
       "<table border=\"1\" class=\"dataframe\">\n",
       "  <thead>\n",
       "    <tr style=\"text-align: right;\">\n",
       "      <th></th>\n",
       "      <th>Model</th>\n",
       "      <th>Values</th>\n",
       "    </tr>\n",
       "  </thead>\n",
       "  <tbody>\n",
       "    <tr>\n",
       "      <th>0</th>\n",
       "      <td>rmse_mul_quad</td>\n",
       "      <td>3630.561947</td>\n",
       "    </tr>\n",
       "    <tr>\n",
       "      <th>1</th>\n",
       "      <td>rmse_add</td>\n",
       "      <td>1869.718821</td>\n",
       "    </tr>\n",
       "    <tr>\n",
       "      <th>2</th>\n",
       "      <td>rmse_add_linear</td>\n",
       "      <td>596.152628</td>\n",
       "    </tr>\n",
       "    <tr>\n",
       "      <th>3</th>\n",
       "      <td>rmse_add_quad</td>\n",
       "      <td>412.114444</td>\n",
       "    </tr>\n",
       "    <tr>\n",
       "      <th>4</th>\n",
       "      <td>rmse_expo</td>\n",
       "      <td>588.140510</td>\n",
       "    </tr>\n",
       "    <tr>\n",
       "      <th>5</th>\n",
       "      <td>rmse_lin</td>\n",
       "      <td>580.122413</td>\n",
       "    </tr>\n",
       "    <tr>\n",
       "      <th>6</th>\n",
       "      <td>rmse_mul</td>\n",
       "      <td>2374.919441</td>\n",
       "    </tr>\n",
       "    <tr>\n",
       "      <th>7</th>\n",
       "      <td>rmse_mul_lin</td>\n",
       "      <td>5359.687912</td>\n",
       "    </tr>\n",
       "    <tr>\n",
       "      <th>8</th>\n",
       "      <td>rmse_quad</td>\n",
       "      <td>783.729798</td>\n",
       "    </tr>\n",
       "  </tbody>\n",
       "</table>\n",
       "</div>"
      ],
      "text/plain": [
       "             Model       Values\n",
       "0    rmse_mul_quad  3630.561947\n",
       "1         rmse_add  1869.718821\n",
       "2  rmse_add_linear   596.152628\n",
       "3    rmse_add_quad   412.114444\n",
       "4        rmse_expo   588.140510\n",
       "5         rmse_lin   580.122413\n",
       "6         rmse_mul  2374.919441\n",
       "7     rmse_mul_lin  5359.687912\n",
       "8        rmse_quad   783.729798"
      ]
     },
     "execution_count": 77,
     "metadata": {},
     "output_type": "execute_result"
    }
   ],
   "source": [
    "rmse"
   ]
  },
  {
   "cell_type": "markdown",
   "id": "d43de32a",
   "metadata": {},
   "source": [
    "##### Additive seasonality with quadratic trend has the best RMSE value"
   ]
  },
  {
   "cell_type": "markdown",
   "id": "953aa48e",
   "metadata": {},
   "source": [
    "## **Smoothing Techniques"
   ]
  },
  {
   "cell_type": "raw",
   "id": "883e8dde",
   "metadata": {},
   "source": [
    "from statsmodels.tsa.holtwinters import SimpleExpSmoothing # SES\n",
    "from statsmodels.tsa.holtwinters import Holt # Holts Exponential Smoothing\n",
    "from statsmodels.tsa.holtwinters import ExponentialSmoothing "
   ]
  },
  {
   "cell_type": "code",
   "execution_count": 78,
   "id": "4d4d568d",
   "metadata": {},
   "outputs": [],
   "source": [
    "Train = data.head(31)\n",
    "Test = data.tail(10)"
   ]
  },
  {
   "cell_type": "markdown",
   "id": "2e59ba84",
   "metadata": {},
   "source": [
    "#### Evaluation Metric MAPE"
   ]
  },
  {
   "cell_type": "code",
   "execution_count": 79,
   "id": "66856f52",
   "metadata": {},
   "outputs": [],
   "source": [
    "def MAPE(pred,org):\n",
    "    temp = np.abs((pred-org)/org)*100\n",
    "    return np.mean(temp)"
   ]
  },
  {
   "cell_type": "markdown",
   "id": "4a4e4f89",
   "metadata": {},
   "source": [
    "#### Simple Exponential Method"
   ]
  },
  {
   "cell_type": "code",
   "execution_count": 80,
   "id": "831ff907",
   "metadata": {},
   "outputs": [
    {
     "data": {
      "text/plain": [
       "23.03330274821372"
      ]
     },
     "execution_count": 80,
     "metadata": {},
     "output_type": "execute_result"
    }
   ],
   "source": [
    "ses_model = SimpleExpSmoothing(Train[\"Sales\"]).fit(smoothing_level=0.2)\n",
    "pred_ses = ses_model.predict(start = Test.index[0],end = Test.index[-1])\n",
    "MAPE(pred_ses,Test.Sales)"
   ]
  },
  {
   "cell_type": "markdown",
   "id": "87013282",
   "metadata": {},
   "source": [
    "#### Holt's Method"
   ]
  },
  {
   "cell_type": "code",
   "execution_count": 81,
   "id": "706a1364",
   "metadata": {},
   "outputs": [
    {
     "data": {
      "text/plain": [
       "9.373149835172722"
      ]
     },
     "execution_count": 81,
     "metadata": {},
     "output_type": "execute_result"
    }
   ],
   "source": [
    "holt_model = Holt(Train[\"Sales\"]).fit(smoothing_level=0.75, smoothing_slope=0.25)\n",
    "pred_holt = holt_model.predict(start = Test.index[0],end = Test.index[-1])\n",
    "MAPE(pred_holt,Test.Sales)"
   ]
  },
  {
   "cell_type": "markdown",
   "id": "bdce0c3e",
   "metadata": {},
   "source": [
    "#### Holts Winter Exponential Smoothing with Additive Seasonality and Additive Arend"
   ]
  },
  {
   "cell_type": "code",
   "execution_count": 82,
   "id": "6064693c",
   "metadata": {},
   "outputs": [
    {
     "data": {
      "text/plain": [
       "8.436839738246004"
      ]
     },
     "execution_count": 82,
     "metadata": {},
     "output_type": "execute_result"
    }
   ],
   "source": [
    "'''Here select Seasonal and Trend = Additive and make model'''\n",
    "\n",
    "hwe_model_add_add = ExponentialSmoothing(Train[\"Sales\"],\n",
    "                                         seasonal=\"add\",\n",
    "                                         trend=\"add\",\n",
    "                                         seasonal_periods=12).fit() #add the trend to the model # hwe = Holt Winter Exponential\n",
    "\n",
    "pred_hwe_add_add = hwe_model_add_add.predict(start = Test.index[0],end = Test.index[-1])\n",
    "MAPE(pred_hwe_add_add,Test.Sales)"
   ]
  },
  {
   "cell_type": "code",
   "execution_count": 83,
   "id": "c6369d3f",
   "metadata": {},
   "outputs": [
    {
     "name": "stdout",
     "output_type": "stream",
     "text": [
      "                       ExponentialSmoothing Model Results                       \n",
      "================================================================================\n",
      "Dep. Variable:                    Sales   No. Observations:                   31\n",
      "Model:             ExponentialSmoothing   SSE                         786164.130\n",
      "Optimized:                         True   AIC                            346.369\n",
      "Trend:                         Additive   BIC                            369.313\n",
      "Seasonal:                      Additive   AICC                           403.369\n",
      "Seasonal Periods:                    12   Date:                 Thu, 15 Sep 2022\n",
      "Box-Cox:                          False   Time:                         22:39:27\n",
      "Box-Cox Coeff.:                    None                                         \n",
      "=================================================================================\n",
      "                          coeff                 code              optimized      \n",
      "---------------------------------------------------------------------------------\n",
      "smoothing_level               0.8011261                alpha                 True\n",
      "smoothing_trend               0.0810853                 beta                 True\n",
      "smoothing_seasonal            0.1662876                gamma                 True\n",
      "initial_level                 1983.4551                  l.0                 True\n",
      "initial_trend                 56.850245                  b.0                 True\n",
      "initial_seasons.0            -299.46114                  s.0                 True\n",
      "initial_seasons.1             173.23054                  s.1                 True\n",
      "initial_seasons.2             190.93854                  s.2                 True\n",
      "initial_seasons.3            -42.151377                  s.3                 True\n",
      "initial_seasons.4            -370.34700                  s.4                 True\n",
      "initial_seasons.5             225.13525                  s.5                 True\n",
      "initial_seasons.6             83.578434                  s.6                 True\n",
      "initial_seasons.7            -64.739796                  s.7                 True\n",
      "initial_seasons.8            -192.09319                  s.8                 True\n",
      "initial_seasons.9             268.02579                  s.9                 True\n",
      "initial_seasons.10            163.48450                 s.10                 True\n",
      "initial_seasons.11           -122.96271                 s.11                 True\n",
      "---------------------------------------------------------------------------------\n"
     ]
    }
   ],
   "source": [
    "print(hwe_model_add_add.summary())"
   ]
  },
  {
   "cell_type": "markdown",
   "id": "e155387a",
   "metadata": {},
   "source": [
    "#### Holts Winter Exponential Smoothing with multiplicative Seasonality and Additive Arend"
   ]
  },
  {
   "cell_type": "code",
   "execution_count": 84,
   "id": "7d2c0339",
   "metadata": {},
   "outputs": [
    {
     "data": {
      "text/plain": [
       "13.783188330904029"
      ]
     },
     "execution_count": 84,
     "metadata": {},
     "output_type": "execute_result"
    }
   ],
   "source": [
    "'''Here select Seasonal = multiplicative and Trend = Additive and make model'''\n",
    "\n",
    "hwe_model_mul_add = ExponentialSmoothing(Train[\"Sales\"],\n",
    "                                         seasonal=\"mul\",\n",
    "                                         trend=\"add\",\n",
    "                                         seasonal_periods=12).fit() #add the trend to the model # hwe = Holt Winter Exponential\n",
    "\n",
    "pred_hwe_mul_add = hwe_model_mul_add.predict(start = Test.index[0],end = Test.index[-1])\n",
    "MAPE(pred_hwe_mul_add,Test.Sales)"
   ]
  },
  {
   "cell_type": "markdown",
   "id": "0f346d4b",
   "metadata": {},
   "source": [
    "#### Holts Winter Exponential Smoothing with Additive Seasonality and multiplicative Arend"
   ]
  },
  {
   "cell_type": "code",
   "execution_count": 85,
   "id": "89b6fca4",
   "metadata": {},
   "outputs": [
    {
     "data": {
      "text/plain": [
       "5.153323890062883"
      ]
     },
     "execution_count": 85,
     "metadata": {},
     "output_type": "execute_result"
    }
   ],
   "source": [
    "'''Here select Seasonal = Additive and Trend = multiplicative and make model'''\n",
    "\n",
    "hwe_model_add_mul = ExponentialSmoothing(Train[\"Sales\"],\n",
    "                                         seasonal=\"add\",\n",
    "                                         trend=\"mul\",\n",
    "                                         seasonal_periods=12).fit() #add the trend to the model # hwe = Holt Winter Exponential\n",
    "\n",
    "pred_hwe_add_mul = hwe_model_add_mul.predict(start = Test.index[0],end = Test.index[-1])\n",
    "MAPE(pred_hwe_add_mul,Test.Sales)"
   ]
  },
  {
   "cell_type": "markdown",
   "id": "bf5563e8",
   "metadata": {},
   "source": [
    "#### Holts Winter Exponential Smoothing with multiplicative Seasonality and multiplicative Arend"
   ]
  },
  {
   "cell_type": "code",
   "execution_count": 86,
   "id": "13d63a40",
   "metadata": {},
   "outputs": [
    {
     "data": {
      "text/plain": [
       "3.6108410696113658"
      ]
     },
     "execution_count": 86,
     "metadata": {},
     "output_type": "execute_result"
    }
   ],
   "source": [
    "'''Here select Seasonal = multiplicative and Trend = multiplicative and make model'''\n",
    "\n",
    "hwe_model_mul_mul = ExponentialSmoothing(Train[\"Sales\"],\n",
    "                                         seasonal=\"mul\",\n",
    "                                         trend=\"mul\",\n",
    "                                         seasonal_periods=12).fit() #add the trend to the model # hwe = Holt Winter Exponential\n",
    "\n",
    "pred_hwe_mul_mul = hwe_model_mul_mul.predict(start = Test.index[0],end = Test.index[-1])\n",
    "MAPE(pred_hwe_mul_mul,Test.Sales)"
   ]
  },
  {
   "cell_type": "markdown",
   "id": "3bc71bea",
   "metadata": {},
   "source": [
    "## Final Model by Combining Train and Test"
   ]
  },
  {
   "cell_type": "code",
   "execution_count": 87,
   "id": "c1273214",
   "metadata": {},
   "outputs": [],
   "source": [
    "final_model1 = ExponentialSmoothing(data[\"Sales\"],seasonal=\"mul\",trend=\"add\",seasonal_periods=12).fit()"
   ]
  },
  {
   "cell_type": "code",
   "execution_count": 88,
   "id": "a851412f",
   "metadata": {},
   "outputs": [
    {
     "data": {
      "text/plain": [
       "42    5030.135317\n",
       "43    4685.105040\n",
       "44    4557.478921\n",
       "45    5744.184381\n",
       "46    5798.450449\n",
       "47    5244.643634\n",
       "48    4995.275166\n",
       "49    6324.167793\n",
       "50    6293.644493\n",
       "51    5652.632838\n",
       "52    5224.610238\n",
       "53    6591.244116\n",
       "54    6278.982207\n",
       "55    5824.712408\n",
       "56    5644.018247\n",
       "57    7086.966260\n",
       "58    7128.017391\n",
       "59    6424.676213\n",
       "60    6098.514891\n",
       "61    7695.660352\n",
       "dtype: float64"
      ]
     },
     "execution_count": 88,
     "metadata": {},
     "output_type": "execute_result"
    }
   ],
   "source": [
    "#Forecasting for next 10 time periods\n",
    "\n",
    "Value1 = final_model1.forecast(20)\n",
    "Value1"
   ]
  },
  {
   "cell_type": "code",
   "execution_count": 89,
   "id": "2ee3322c",
   "metadata": {},
   "outputs": [],
   "source": [
    "# Seasonal = Additive and Trend = Multiplicate\n",
    "\n",
    "final_model2 = ExponentialSmoothing(data[\"Sales\"],\n",
    "                                    seasonal=\"add\",\n",
    "                                    trend=\"mul\",\n",
    "                                    seasonal_periods=12).fit()"
   ]
  },
  {
   "cell_type": "code",
   "execution_count": 90,
   "id": "fcb1d165",
   "metadata": {},
   "outputs": [
    {
     "data": {
      "text/plain": [
       "42    5095.967470\n",
       "43    4985.047304\n",
       "44    4982.777642\n",
       "45    5745.203427\n",
       "46    5845.357047\n",
       "47    5621.773147\n",
       "48    5577.050979\n",
       "49    6392.377710\n",
       "50    6545.815401\n",
       "51    6294.192895\n",
       "52    6133.557716\n",
       "53    7032.905597\n",
       "54    7022.327595\n",
       "55    6964.252764\n",
       "56    7016.278131\n",
       "57    7834.488405\n",
       "58    7991.956837\n",
       "59    7827.260050\n",
       "60    7843.040430\n",
       "61    8720.529460\n",
       "dtype: float64"
      ]
     },
     "execution_count": 90,
     "metadata": {},
     "output_type": "execute_result"
    }
   ],
   "source": [
    "#Forecasting for next 20 time periods\n",
    "\n",
    "Value2 = final_model2.forecast(20)\n",
    "Value2"
   ]
  },
  {
   "cell_type": "code",
   "execution_count": 91,
   "id": "5ec52933",
   "metadata": {},
   "outputs": [],
   "source": [
    "# Seasonal = Multiplicate and Trend = Multiplicate\n",
    "\n",
    "final_model3 = ExponentialSmoothing(data[\"Sales\"],\n",
    "                                    seasonal=\"mul\",\n",
    "                                    trend=\"mul\",\n",
    "                                    seasonal_periods=12).fit()"
   ]
  },
  {
   "cell_type": "code",
   "execution_count": 92,
   "id": "f6672236",
   "metadata": {},
   "outputs": [
    {
     "data": {
      "text/plain": [
       "42    5079.624703\n",
       "43    4788.587706\n",
       "44    4694.480413\n",
       "45    5939.515927\n",
       "46    6030.451912\n",
       "47    5493.862504\n",
       "48    5271.454347\n",
       "49    6716.726625\n",
       "50    6738.376174\n",
       "51    6115.837947\n",
       "52    5710.221804\n",
       "53    7266.599228\n",
       "54    7015.973075\n",
       "55    6613.993037\n",
       "56    6484.012129\n",
       "57    8203.654061\n",
       "58    8329.254762\n",
       "59    7588.117954\n",
       "60    7280.928007\n",
       "61    9277.136779\n",
       "dtype: float64"
      ]
     },
     "execution_count": 92,
     "metadata": {},
     "output_type": "execute_result"
    }
   ],
   "source": [
    "Value3 = final_model3.forecast(20)\n",
    "Value3"
   ]
  },
  {
   "cell_type": "code",
   "execution_count": 93,
   "id": "5cdd0001",
   "metadata": {},
   "outputs": [],
   "source": [
    "# Seasonal = Additive and Trend = Additive\n",
    "\n",
    "final_model4 = ExponentialSmoothing(data[\"Sales\"],\n",
    "                                    seasonal=\"add\",\n",
    "                                    trend=\"add\",\n",
    "                                    seasonal_periods=12).fit()"
   ]
  },
  {
   "cell_type": "code",
   "execution_count": 94,
   "id": "4b0ff7bb",
   "metadata": {},
   "outputs": [
    {
     "data": {
      "text/plain": [
       "42    5058.519769\n",
       "43    4932.980149\n",
       "44    4887.665917\n",
       "45    5553.724457\n",
       "46    5587.141374\n",
       "47    5337.430684\n",
       "48    5235.615506\n",
       "49    5969.257368\n",
       "50    6031.079992\n",
       "51    5758.675619\n",
       "52    5566.449302\n",
       "53    6371.108047\n",
       "54    6286.726248\n",
       "55    6161.186627\n",
       "56    6115.872395\n",
       "57    6781.930936\n",
       "58    6815.347853\n",
       "59    6565.637162\n",
       "60    6463.821985\n",
       "61    7197.463847\n",
       "dtype: float64"
      ]
     },
     "execution_count": 94,
     "metadata": {},
     "output_type": "execute_result"
    }
   ],
   "source": [
    "Value4 = final_model4.forecast(20)\n",
    "Value4"
   ]
  },
  {
   "cell_type": "code",
   "execution_count": null,
   "id": "072278bf",
   "metadata": {},
   "outputs": [],
   "source": []
  },
  {
   "cell_type": "code",
   "execution_count": null,
   "id": "38f0c58a",
   "metadata": {},
   "outputs": [],
   "source": []
  },
  {
   "cell_type": "code",
   "execution_count": null,
   "id": "92eeb4b4",
   "metadata": {},
   "outputs": [],
   "source": []
  }
 ],
 "metadata": {
  "kernelspec": {
   "display_name": "Python 3 (ipykernel)",
   "language": "python",
   "name": "python3"
  },
  "language_info": {
   "codemirror_mode": {
    "name": "ipython",
    "version": 3
   },
   "file_extension": ".py",
   "mimetype": "text/x-python",
   "name": "python",
   "nbconvert_exporter": "python",
   "pygments_lexer": "ipython3",
   "version": "3.9.12"
  }
 },
 "nbformat": 4,
 "nbformat_minor": 5
}
